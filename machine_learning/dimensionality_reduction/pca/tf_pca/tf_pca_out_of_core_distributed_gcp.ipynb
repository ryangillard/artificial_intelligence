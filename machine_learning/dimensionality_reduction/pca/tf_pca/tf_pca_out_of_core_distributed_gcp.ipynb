{
 "cells": [
  {
   "cell_type": "markdown",
   "metadata": {
    "colab_type": "text",
    "id": "7LaN_jzBJaWe"
   },
   "source": [
    "# Run model module on GCP"
   ]
  },
  {
   "cell_type": "code",
   "execution_count": 1,
   "metadata": {
    "colab": {},
    "colab_type": "code",
    "id": "SjCwzYb-JaWg"
   },
   "outputs": [],
   "source": [
    "import datetime\n",
    "import json\n",
    "import os"
   ]
  },
  {
   "cell_type": "code",
   "execution_count": 2,
   "metadata": {
    "colab": {},
    "colab_type": "code",
    "id": "IB-acMC0JaWl"
   },
   "outputs": [],
   "source": [
    "PROJECT = \"machine-learning-1234\"\n",
    "BUCKET = \"machine-learning-1234-bucket\"\n",
    "REGION = \"us-central1\"\n",
    "\n",
    "# Import os environment variables\n",
    "os.environ[\"PROJECT\"] = PROJECT\n",
    "os.environ[\"BUCKET\"] =  BUCKET\n",
    "os.environ[\"REGION\"] = REGION\n",
    "os.environ[\"TFVERSION\"] = \"2.2\"\n",
    "os.environ[\"PYTHON_VERSION\"] = \"3.7\""
   ]
  },
  {
   "cell_type": "markdown",
   "metadata": {
    "colab_type": "text",
    "id": "0V91zzvfI0vG"
   },
   "source": [
    "## Arguments"
   ]
  },
  {
   "cell_type": "code",
   "execution_count": 3,
   "metadata": {
    "colab": {},
    "colab_type": "code",
    "id": "JuMAd2M9I0vK"
   },
   "outputs": [],
   "source": [
    "arguments = {}\n",
    "\n",
    "# File arguments.\n",
    "arguments[\"train_file_pattern\"] = \"gs://machine-learning-1234-bucket/gan/data/cifar10_car/train.tfrecord\"\n",
    "arguments[\"output_dir\"] = \"gs://machine-learning-1234-bucket/pca/trained_models/pca_test\"\n",
    "\n",
    "# Data parameters.\n",
    "arguments[\"tf_record_example_schema\"] = [\n",
    "    {\n",
    "        \"name\": \"image_raw\",\n",
    "        \"type\": \"FixedLen\",\n",
    "        \"shape\": [],\n",
    "        \"dtype\": \"str\"\n",
    "    },\n",
    "    {\n",
    "        \"name\": \"label\",\n",
    "        \"type\": \"FixedLen\",\n",
    "        \"shape\": [],\n",
    "        \"dtype\": \"int\"\n",
    "    }\n",
    "]\n",
    "arguments[\"image_feature_name\"] = \"image_raw\"\n",
    "arguments[\"image_encoding\"] = \"raw\"\n",
    "arguments[\"image_height\"] = 32\n",
    "arguments[\"image_width\"] = 32\n",
    "arguments[\"image_depth\"] = 3\n",
    "arguments[\"label_feature_name\"] = \"label\"\n",
    "\n",
    "# Training parameters.\n",
    "arguments[\"tf_version\"] = 2.2\n",
    "arguments[\"use_graph_mode\"] = True\n",
    "arguments[\"distribution_strategy\"] = \"Mirrored\"\n",
    "arguments[\"train_dataset_length\"] = 5000\n",
    "arguments[\"train_batch_size\"] = 32\n",
    "arguments[\"input_fn_autotune\"] = False\n",
    "arguments[\"save_checkpoints_steps\"] = 10\n",
    "arguments[\"keep_checkpoint_max\"] = 1000\n",
    "\n",
    "# ResNet parameters.\n",
    "arguments[\"resnet_weights\"] = \"imagenet\"\n",
    "arguments[\"resnet_layer_name\"] = \"conv4_block1_0_conv\"\n",
    "arguments[\"preprocess_input\"] = True\n",
    "\n",
    "# PCA parameters.\n",
    "arguments[\"num_cols\"] = 1024\n",
    "arguments[\"use_sample_covariance\"] = True\n",
    "arguments[\"top_k_pc\"] = 5\n"
   ]
  },
  {
   "cell_type": "code",
   "execution_count": 4,
   "metadata": {},
   "outputs": [
    {
     "data": {
      "text/plain": [
       "{'train_file_pattern': 'gs://machine-learning-1234-bucket/gan/data/cifar10_car/train.tfrecord',\n",
       " 'output_dir': 'gs://machine-learning-1234-bucket/pca/trained_models/pca_test',\n",
       " 'tf_record_example_schema': [{'name': 'image_raw',\n",
       "   'type': 'FixedLen',\n",
       "   'shape': [],\n",
       "   'dtype': 'str'},\n",
       "  {'name': 'label', 'type': 'FixedLen', 'shape': [], 'dtype': 'int'}],\n",
       " 'image_feature_name': 'image_raw',\n",
       " 'image_encoding': 'raw',\n",
       " 'image_height': 32,\n",
       " 'image_width': 32,\n",
       " 'image_depth': 3,\n",
       " 'label_feature_name': 'label',\n",
       " 'tf_version': 2.2,\n",
       " 'use_graph_mode': True,\n",
       " 'distribution_strategy': 'Mirrored',\n",
       " 'train_dataset_length': 5000,\n",
       " 'train_batch_size': 32,\n",
       " 'input_fn_autotune': False,\n",
       " 'save_checkpoints_steps': 10,\n",
       " 'keep_checkpoint_max': 1000,\n",
       " 'resnet_weights': 'imagenet',\n",
       " 'resnet_layer_name': 'conv4_block1_0_conv',\n",
       " 'preprocess_input': True,\n",
       " 'num_cols': 1024,\n",
       " 'use_sample_covariance': True,\n",
       " 'top_k_pc': 5}"
      ]
     },
     "execution_count": 4,
     "metadata": {},
     "output_type": "execute_result"
    }
   ],
   "source": [
    "arguments"
   ]
  },
  {
   "cell_type": "code",
   "execution_count": 5,
   "metadata": {},
   "outputs": [],
   "source": [
    "# Import os environment variables for file hyperparameters.\n",
    "os.environ[\"TRAIN_FILE_PATTERN\"] = arguments[\"train_file_pattern\"]\n",
    "os.environ[\"OUTPUT_DIR\"] = arguments[\"output_dir\"]\n",
    "\n",
    "# Import os environment variables for data hyperparameters.\n",
    "os.environ[\"TF_RECORD_EXAMPLE_SCHEMA\"] = json.dumps(\n",
    "    arguments[\"tf_record_example_schema\"]\n",
    ").replace(\" \", \";\")\n",
    "os.environ[\"IMAGE_FEATURE_NAME\"] = arguments[\"image_feature_name\"]\n",
    "os.environ[\"IMAGE_ENCODING\"] = arguments[\"image_encoding\"]\n",
    "os.environ[\"IMAGE_HEIGHT\"] = str(arguments[\"image_height\"])\n",
    "os.environ[\"IMAGE_WIDTH\"] = str(arguments[\"image_width\"])\n",
    "os.environ[\"IMAGE_DEPTH\"] = str(arguments[\"image_depth\"])\n",
    "os.environ[\"LABEL_FEATURE_NAME\"] = arguments[\"label_feature_name\"]\n",
    "\n",
    "# Import os environment variables for train hyperparameters.\n",
    "os.environ[\"TF_VERSION\"] = str(arguments[\"tf_version\"])\n",
    "os.environ[\"USE_GRAPH_MODE\"] = str(arguments[\"use_graph_mode\"])\n",
    "os.environ[\"DISTRIBUTION_STRATEGY\"] = arguments[\"distribution_strategy\"]\n",
    "\n",
    "os.environ[\"TRAIN_DATASET_LENGTH\"] = str(arguments[\"train_dataset_length\"])\n",
    "os.environ[\"TRAIN_BATCH_SIZE\"] = str(arguments[\"train_batch_size\"])\n",
    "os.environ[\"INPUT_FN_AUTOTUNE\"] = str(arguments[\"input_fn_autotune\"])\n",
    "os.environ[\"SAVE_CHECKPOINTS_STEPS\"] = (\n",
    "    str(arguments[\"save_checkpoints_steps\"])\n",
    ")\n",
    "os.environ[\"KEEP_CHECKPOINT_MAX\"] = str(arguments[\"keep_checkpoint_max\"])\n",
    "\n",
    "# Import os environment variables for ResNet hyperparameters.\n",
    "os.environ[\"RESNET_WEIGHTS\"] = arguments[\"resnet_weights\"]\n",
    "os.environ[\"RESNET_LAYER_NAME\"] = arguments[\"resnet_layer_name\"]\n",
    "os.environ[\"PREPROCESS_INPUT\"] = str(arguments[\"preprocess_input\"])\n",
    "\n",
    "# Import os environment variables for PCA hyperparameters.\n",
    "os.environ[\"NUM_COLS\"] = str(arguments[\"num_cols\"])\n",
    "os.environ[\"USE_SAMPLE_COVARIANCE\"] = str(arguments[\"use_sample_covariance\"])\n",
    "os.environ[\"TOP_K_PC\"] = str(arguments[\"top_k_pc\"])\n"
   ]
  },
  {
   "cell_type": "markdown",
   "metadata": {},
   "source": [
    "## Config"
   ]
  },
  {
   "cell_type": "code",
   "execution_count": null,
   "metadata": {},
   "outputs": [],
   "source": [
    "%%writefile config.yaml\n",
    "trainingInput:\n",
    "  scaleTier: CUSTOM\n",
    "  masterType: n1-highmem-16\n",
    "  masterConfig:\n",
    "    acceleratorConfig:\n",
    "      count: 2\n",
    "      type: NVIDIA_TESLA_V100"
   ]
  },
  {
   "cell_type": "code",
   "execution_count": null,
   "metadata": {},
   "outputs": [],
   "source": [
    "%%writefile config.yaml\n",
    "trainingInput:\n",
    "  scaleTier: CUSTOM\n",
    "  masterType: n1-highmem-96\n",
    "  masterConfig:\n",
    "    acceleratorConfig:\n",
    "      count: 8\n",
    "      type: NVIDIA_TESLA_V100"
   ]
  },
  {
   "cell_type": "markdown",
   "metadata": {},
   "source": [
    "## Train PCA model"
   ]
  },
  {
   "cell_type": "code",
   "execution_count": 6,
   "metadata": {},
   "outputs": [
    {
     "name": "stdout",
     "output_type": "stream",
     "text": [
      "gs://machine-learning-1234-bucket/pca/trained_models/pca_test\n"
     ]
    }
   ],
   "source": [
    "%%bash\n",
    "echo ${OUTPUT_DIR}"
   ]
  },
  {
   "cell_type": "code",
   "execution_count": null,
   "metadata": {},
   "outputs": [],
   "source": [
    "%%bash\n",
    "gsutil -m rm -rf ${OUTPUT_DIR}"
   ]
  },
  {
   "cell_type": "code",
   "execution_count": null,
   "metadata": {},
   "outputs": [],
   "source": [
    "%%bash\n",
    "JOBNAME=pca_$(date -u +%y%m%d_%H%M%S)\n",
    "echo ${OUTPUT_DIR} ${REGION} ${JOBNAME}\n",
    "gcloud ai-platform jobs submit training ${JOBNAME} \\\n",
    "    --region=${REGION} \\\n",
    "    --module-name=trainer.task \\\n",
    "    --package-path=$PWD/pca_out_of_core_distributed_module/trainer \\\n",
    "    --job-dir=${OUTPUT_DIR} \\\n",
    "    --staging-bucket=gs://${BUCKET} \\\n",
    "    --config=config.yaml \\\n",
    "    --runtime-version=${TFVERSION} \\\n",
    "    --python-version=${PYTHON_VERSION} \\\n",
    "    -- \\\n",
    "    --train_file_pattern=${TRAIN_FILE_PATTERN} \\\n",
    "    --output_dir=${OUTPUT_DIR} \\\n",
    "    --job-dir=./tmp \\\n",
    "    \\\n",
    "    --tf_record_example_schema=${TF_RECORD_EXAMPLE_SCHEMA} \\\n",
    "    --image_feature_name=${IMAGE_FEATURE_NAME} \\\n",
    "    --image_encoding=${IMAGE_ENCODING} \\\n",
    "    --image_height=${IMAGE_HEIGHT} \\\n",
    "    --image_width=${IMAGE_WIDTH} \\\n",
    "    --image_depth=${IMAGE_DEPTH} \\\n",
    "    --label_feature_name=${LABEL_FEATURE_NAME} \\\n",
    "    \\\n",
    "    --tf_version=${TF_VERSION} \\\n",
    "    --use_graph_mode=${USE_GRAPH_MODE} \\\n",
    "    --distribution_strategy=${DISTRIBUTION_STRATEGY} \\\n",
    "    --train_dataset_length=${TRAIN_DATASET_LENGTH} \\\n",
    "    --train_batch_size=${TRAIN_BATCH_SIZE} \\\n",
    "    --input_fn_autotune=${INPUT_FN_AUTOTUNE} \\\n",
    "    --save_checkpoints_steps=${SAVE_CHECKPOINTS_STEPS} \\\n",
    "    --keep_checkpoint_max=${KEEP_CHECKPOINT_MAX} \\\n",
    "    \\\n",
    "    --resnet_weights=${RESNET_WEIGHTS} \\\n",
    "    --resnet_layer_name=${RESNET_LAYER_NAME} \\\n",
    "    --preprocess_input=${PREPROCESS_INPUT} \\\n",
    "    \\\n",
    "    --num_cols=${NUM_COLS} \\\n",
    "    --use_sample_covariance=${USE_SAMPLE_COVARIANCE} \\\n",
    "    --top_k_pc=${TOP_K_PC}"
   ]
  },
  {
   "cell_type": "code",
   "execution_count": null,
   "metadata": {},
   "outputs": [],
   "source": []
  }
 ],
 "metadata": {
  "environment": {
   "name": "tf2-2-3-gpu.2-3.m56",
   "type": "gcloud",
   "uri": "gcr.io/deeplearning-platform-release/tf2-2-3-gpu.2-3:m56"
  },
  "kernelspec": {
   "display_name": "Python 3",
   "language": "python",
   "name": "python3"
  },
  "language_info": {
   "codemirror_mode": {
    "name": "ipython",
    "version": 3
   },
   "file_extension": ".py",
   "mimetype": "text/x-python",
   "name": "python",
   "nbconvert_exporter": "python",
   "pygments_lexer": "ipython3",
   "version": "3.7.8"
  }
 },
 "nbformat": 4,
 "nbformat_minor": 4
}
