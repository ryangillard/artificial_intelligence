{
 "cells": [
  {
   "cell_type": "code",
   "execution_count": 1,
   "metadata": {},
   "outputs": [],
   "source": [
    "import matplotlib.pyplot as plt\n",
    "import numpy as np\n",
    "import tensorflow as tf"
   ]
  },
  {
   "cell_type": "code",
   "execution_count": 2,
   "metadata": {},
   "outputs": [],
   "source": [
    "class PCA(object):\n",
    "    \"\"\"Class that performs PCA projection and reconstruction.\n",
    "\n",
    "    Attributes:\n",
    "        num_rows: int, number of data instances.\n",
    "        num_cols: int, number of dimensions for each data instance.\n",
    "        use_sample_covariance: bool, whether using sample or population\n",
    "            covariance.\n",
    "        top_k_pc: int, number of top principal components to keep.\n",
    "        col_mean_vector: tensor, rank 1 tensor of shape (num_cols,) containing\n",
    "            column means.\n",
    "        covariance_matrix: tensor, rank 2 tensor of shape (num_cols, num_cols)\n",
    "            containing covariance matrix.\n",
    "        self.top_k_eigenvectors: tensor, rank 2 tensor of shape\n",
    "            (num_cols, top_k_pc) containing the eigenvectors associated with\n",
    "            the top_k_pc eigenvalues.\n",
    "    \"\"\"\n",
    "    def __init__(self, num_rows, num_cols, use_sample_covariance, top_k_pc):\n",
    "        \"\"\"Initializes `PCA` class instance.\n",
    "\n",
    "        Args:\n",
    "            num_rows: int, number of data instances.\n",
    "            num_cols: int, number of dimensions for each data instance.\n",
    "            use_sample_covariance: bool, whether using sample or population\n",
    "                covariance.\n",
    "            top_k_pc: int, number of top principal components to keep.\n",
    "        \"\"\"\n",
    "        self.num_rows = num_rows\n",
    "        self.num_cols = num_cols\n",
    "        self.use_sample_covariance = use_sample_covariance\n",
    "        self.top_k_pc = top_k_pc\n",
    "\n",
    "        self.col_mean_vector = tf.zeros(\n",
    "            shape=(self.num_cols,), dtype=tf.float32\n",
    "        )\n",
    "        self.covariance_matrix = tf.zeros(\n",
    "            shape=(self.num_cols, self.num_cols), dtype=tf.float32\n",
    "        )\n",
    "\n",
    "        self.top_k_eigenvectors = tf.zeros(\n",
    "            shape=(self.num_cols, self.top_k_pc)\n",
    "        )\n",
    "\n",
    "    def calculate_data_stats(self, data):\n",
    "        \"\"\"Calculates statistics of data.\n",
    "\n",
    "        Args:\n",
    "            data: tensor, rank 2 tensor of shape (num_rows, num_cols)\n",
    "                containing input data.\n",
    "\n",
    "        Returns:\n",
    "            Column mean rank 1 tensor and covariance matrix rank 2 tensor.\n",
    "        \"\"\"\n",
    "        # shape = (num_cols,)\n",
    "        col_mean_vector = tf.reduce_mean(input_tensor=data, axis=0)\n",
    "\n",
    "        # shape = (num_rows, num_cols)\n",
    "        centered_data = data - col_mean_vector\n",
    "\n",
    "        # shape = (num_cols, num_cols)\n",
    "        unscaled_covariance = tf.matmul(\n",
    "            a=centered_data,\n",
    "            b=centered_data,\n",
    "            transpose_a=True\n",
    "        )\n",
    "\n",
    "        # shape = ()\n",
    "        scale = (\n",
    "            self.num_rows - 1 if self.use_sample_covariance else self.num_rows\n",
    "        )\n",
    "\n",
    "        # shape = (num_cols, num_cols)\n",
    "        covariance_matrix = tf.divide(\n",
    "            x=unscaled_covariance, y=tf.cast(x=scale, dtype=tf.float64)\n",
    "        )\n",
    "\n",
    "        return col_mean_vector, covariance_matrix\n",
    "\n",
    "    def calculate_eigenvalues_and_eigenvectors(self, data):\n",
    "        \"\"\"Calculates eigenvalues and eigenvectors of data.\n",
    "\n",
    "        Args:\n",
    "            data: tensor, rank 2 tensor of shape (num_rows, num_cols)\n",
    "                containing input data.\n",
    "        \"\"\"\n",
    "        # shape = (num_cols,) & (num_cols, num_cols)\n",
    "        (self.col_mean_vector,\n",
    "         self.covariance_matrix) = self.calculate_data_stats(data=data)\n",
    "\n",
    "        # shape = (num_cols,) & (num_cols, num_cols)\n",
    "        self.eigenvalues, self.eigenvectors = tf.linalg.eigh(\n",
    "            tensor=self.covariance_matrix\n",
    "        )\n",
    "\n",
    "    def pca_projection_to_top_k_pc(self, data):\n",
    "        \"\"\"Projects data down to top_k principal components.\n",
    "\n",
    "        Args:\n",
    "            data: tensor, rank 2 tensor of shape (num_rows, num_cols)\n",
    "                containing input data.\n",
    "\n",
    "        Returns:\n",
    "            Rank 2 tensor of shape (num_rows, top_k_pc) containing\n",
    "                projected centered data.\n",
    "        \"\"\"\n",
    "        # shape = (num_cols, top_k_pc)\n",
    "        self.top_k_eigenvectors = self.eigenvectors[:, -self.top_k_pc:]\n",
    "\n",
    "        # shape = (num_rows, num_cols)\n",
    "        centered_data = data - self.col_mean_vector\n",
    "\n",
    "        # shape = (num_rows, top_k_pc)\n",
    "        projected_centered_data = tf.matmul(\n",
    "            a=centered_data,\n",
    "            b=self.top_k_eigenvectors\n",
    "        )\n",
    "\n",
    "        return projected_centered_data\n",
    "\n",
    "    def pca_reconstruction_from_top_k_pc(self, data):\n",
    "        \"\"\"Reconstructs data up from top_k principal components.\n",
    "\n",
    "        Args:\n",
    "            data: tensor, rank 2 tensor of shape (num_rows, top_k_pc)\n",
    "                containing projected centered data.\n",
    "\n",
    "        Returns:\n",
    "            Rank 2 tensor of shape (num_rows, num_cols) containing\n",
    "                lossy, reconstructed input data.\n",
    "        \"\"\"\n",
    "        # shape = (num_rows, top_k_pc)\n",
    "        projected_centered_data = self.pca_projection_to_top_k_pc(data=data)\n",
    "\n",
    "        # shape = (num_rows, num_cols)\n",
    "        unprojected_centered_data = tf.matmul(\n",
    "            a=projected_centered_data,\n",
    "            b=self.top_k_eigenvectors,\n",
    "            transpose_b=True\n",
    "        )\n",
    "\n",
    "        # shape = (num_rows, num_cols)\n",
    "        data_reconstructed = unprojected_centered_data + self.col_mean_vector\n",
    "\n",
    "        return data_reconstructed\n"
   ]
  },
  {
   "cell_type": "code",
   "execution_count": 3,
   "metadata": {},
   "outputs": [],
   "source": [
    "data = np.array(\n",
    "    [\n",
    "        [7.0, 4.0, 3.0],\n",
    "        [4.0, 1.0, 8.0],\n",
    "        [6.0, 3.0, 5.0],\n",
    "        [8.0, 6.0, 1.0],\n",
    "        [8.0, 5.0, 7.0],\n",
    "        [7.0, 2.0, 9.0],\n",
    "        [5.0, 3.0, 3.0],\n",
    "        [9.0, 5.0, 8.0],\n",
    "        [7.0, 4.0, 5.0],\n",
    "        [8.0, 2.0, 2.0],\n",
    "    ]\n",
    ")"
   ]
  },
  {
   "cell_type": "code",
   "execution_count": 4,
   "metadata": {},
   "outputs": [
    {
     "name": "stdout",
     "output_type": "stream",
     "text": [
      "num_rows = 10, num_cols = 3\n"
     ]
    }
   ],
   "source": [
    "print(\"num_rows = {}, num_cols = {}\".format(data.shape[0], data.shape[1]))"
   ]
  },
  {
   "cell_type": "markdown",
   "metadata": {},
   "source": [
    "## Instantiate class."
   ]
  },
  {
   "cell_type": "code",
   "execution_count": 5,
   "metadata": {},
   "outputs": [],
   "source": [
    "pca = PCA(num_rows=10, num_cols=3, use_sample_covariance=True, top_k_pc=2)"
   ]
  },
  {
   "cell_type": "markdown",
   "metadata": {},
   "source": [
    "## Calculate data statistics."
   ]
  },
  {
   "cell_type": "code",
   "execution_count": 6,
   "metadata": {},
   "outputs": [],
   "source": [
    "pca.calculate_eigenvalues_and_eigenvectors(data=data)"
   ]
  },
  {
   "cell_type": "code",
   "execution_count": 7,
   "metadata": {},
   "outputs": [
    {
     "data": {
      "text/plain": [
       "<tf.Tensor: shape=(3,), dtype=float64, numpy=array([6.9, 3.5, 5.1])>"
      ]
     },
     "execution_count": 7,
     "metadata": {},
     "output_type": "execute_result"
    }
   ],
   "source": [
    "pca.col_mean_vector"
   ]
  },
  {
   "cell_type": "code",
   "execution_count": 8,
   "metadata": {},
   "outputs": [
    {
     "data": {
      "text/plain": [
       "<tf.Tensor: shape=(3, 3), dtype=float64, numpy=\n",
       "array([[ 2.32222222,  1.61111111, -0.43333333],\n",
       "       [ 1.61111111,  2.5       , -1.27777778],\n",
       "       [-0.43333333, -1.27777778,  7.87777778]])>"
      ]
     },
     "execution_count": 8,
     "metadata": {},
     "output_type": "execute_result"
    }
   ],
   "source": [
    "pca.covariance_matrix"
   ]
  },
  {
   "cell_type": "code",
   "execution_count": 9,
   "metadata": {},
   "outputs": [
    {
     "data": {
      "text/plain": [
       "<tf.Tensor: shape=(3,), dtype=float64, numpy=array([0.74992815, 3.67612927, 8.27394258])>"
      ]
     },
     "execution_count": 9,
     "metadata": {},
     "output_type": "execute_result"
    }
   ],
   "source": [
    "pca.eigenvalues"
   ]
  },
  {
   "cell_type": "code",
   "execution_count": 10,
   "metadata": {},
   "outputs": [
    {
     "data": {
      "text/plain": [
       "<tf.Tensor: shape=(3, 3), dtype=float64, numpy=\n",
       "array([[ 0.70172743,  0.69903712, -0.1375708 ],\n",
       "       [-0.70745703,  0.66088917, -0.25045969],\n",
       "       [-0.08416157,  0.27307986,  0.95830278]])>"
      ]
     },
     "execution_count": 10,
     "metadata": {},
     "output_type": "execute_result"
    }
   ],
   "source": [
    "pca.eigenvectors"
   ]
  },
  {
   "cell_type": "markdown",
   "metadata": {},
   "source": [
    "## Projection"
   ]
  },
  {
   "cell_type": "code",
   "execution_count": 11,
   "metadata": {},
   "outputs": [
    {
     "data": {
      "text/plain": [
       "<tf.Tensor: shape=(10, 2), dtype=float64, numpy=\n",
       "array([[-0.17311941, -2.15142276],\n",
       "       [-2.88749898,  3.80418259],\n",
       "       [-0.98688598,  0.15321328],\n",
       "       [ 1.30153634, -4.7065185 ],\n",
       "       [ 2.27912632,  1.29375788],\n",
       "       [ 0.1435814 ,  4.0993133 ],\n",
       "       [-2.23208282, -1.62582148],\n",
       "       [ 3.2512433 ,  2.11448986],\n",
       "       [ 0.37304031, -0.2348172 ],\n",
       "       [-1.06894049, -2.74637697]])>"
      ]
     },
     "execution_count": 11,
     "metadata": {},
     "output_type": "execute_result"
    }
   ],
   "source": [
    "pca.pca_projection_to_top_k_pc(data=data)"
   ]
  },
  {
   "cell_type": "code",
   "execution_count": 12,
   "metadata": {},
   "outputs": [
    {
     "data": {
      "text/plain": [
       "<tf.Tensor: shape=(3, 2), dtype=float64, numpy=\n",
       "array([[ 0.69903712, -0.1375708 ],\n",
       "       [ 0.66088917, -0.25045969],\n",
       "       [ 0.27307986,  0.95830278]])>"
      ]
     },
     "execution_count": 12,
     "metadata": {},
     "output_type": "execute_result"
    }
   ],
   "source": [
    "pca.top_k_eigenvectors"
   ]
  },
  {
   "cell_type": "markdown",
   "metadata": {},
   "source": [
    "## Reconstruction."
   ]
  },
  {
   "cell_type": "code",
   "execution_count": 13,
   "metadata": {},
   "outputs": [
    {
     "data": {
      "text/plain": [
       "<tf.Tensor: shape=(10, 3), dtype=float64, numpy=\n",
       "array([[7.07495606, 3.92443193, 2.99101016],\n",
       "       [4.35818659, 0.63888882, 7.95704095],\n",
       "       [6.18905239, 2.80940399, 4.97732603],\n",
       "       [8.45730172, 5.53896441, 0.94515359],\n",
       "       [8.31521059, 4.68221571, 6.96219527],\n",
       "       [6.43642293, 2.56817868, 9.06759253],\n",
       "       [5.56335682, 2.43204338, 2.93243389],\n",
       "       [8.88184769, 5.11911702, 8.01417058],\n",
       "       [7.19307301, 3.80535054, 4.97684382],\n",
       "       [6.53059219, 3.48140552, 2.17623319]])>"
      ]
     },
     "execution_count": 13,
     "metadata": {},
     "output_type": "execute_result"
    }
   ],
   "source": [
    "recon = pca.pca_reconstruction_from_top_k_pc(data=data)\n",
    "recon"
   ]
  },
  {
   "cell_type": "markdown",
   "metadata": {},
   "source": [
    "## MSE"
   ]
  },
  {
   "cell_type": "code",
   "execution_count": 14,
   "metadata": {},
   "outputs": [
    {
     "data": {
      "text/plain": [
       "0.7499281527948033"
      ]
     },
     "execution_count": 14,
     "metadata": {},
     "output_type": "execute_result"
    }
   ],
   "source": [
    "(np.sum((data-recon)**2) / 10) * (10 / (10 - 1))"
   ]
  },
  {
   "cell_type": "code",
   "execution_count": null,
   "metadata": {},
   "outputs": [],
   "source": []
  }
 ],
 "metadata": {
  "environment": {
   "name": "tf2-2-3-gpu.2-3.m56",
   "type": "gcloud",
   "uri": "gcr.io/deeplearning-platform-release/tf2-2-3-gpu.2-3:m56"
  },
  "kernelspec": {
   "display_name": "Python 3",
   "language": "python",
   "name": "python3"
  },
  "language_info": {
   "codemirror_mode": {
    "name": "ipython",
    "version": 3
   },
   "file_extension": ".py",
   "mimetype": "text/x-python",
   "name": "python",
   "nbconvert_exporter": "python",
   "pygments_lexer": "ipython3",
   "version": "3.7.8"
  }
 },
 "nbformat": 4,
 "nbformat_minor": 4
}
