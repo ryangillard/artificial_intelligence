{
 "cells": [
  {
   "cell_type": "code",
   "execution_count": 1,
   "metadata": {},
   "outputs": [],
   "source": [
    "# Import libraries and modules\n",
    "import os\n",
    "import tensorflow as tf\n",
    "\n",
    "from pca_out_of_core_distributed_module.trainer import model\n",
    "from pca_out_of_core_distributed_module.trainer import training_inputs"
   ]
  },
  {
   "cell_type": "markdown",
   "metadata": {
    "colab_type": "text",
    "id": "U_673BVaI0vF"
   },
   "source": [
    "# Local Development"
   ]
  },
  {
   "cell_type": "markdown",
   "metadata": {
    "colab_type": "text",
    "id": "0V91zzvfI0vG"
   },
   "source": [
    "## Arguments"
   ]
  },
  {
   "cell_type": "code",
   "execution_count": 2,
   "metadata": {
    "colab": {},
    "colab_type": "code",
    "id": "JuMAd2M9I0vK"
   },
   "outputs": [],
   "source": [
    "arguments = {}\n",
    "\n",
    "# File arguments.\n",
    "arguments[\"train_file_pattern\"] = \"gs://machine-learning-1234-bucket/gan/data/cifar10_car/train.tfrecord\"\n",
    "arguments[\"output_dir\"] = \"trained_models/pca\"\n",
    "\n",
    "# Data parameters.\n",
    "arguments[\"tf_record_example_schema\"] = [\n",
    "    {\n",
    "        \"name\": \"image_raw\",\n",
    "        \"type\": \"FixedLen\",\n",
    "        \"shape\": [],\n",
    "        \"dtype\": \"str\"\n",
    "    },\n",
    "    {\n",
    "        \"name\": \"label\",\n",
    "        \"type\": \"FixedLen\",\n",
    "        \"shape\": [],\n",
    "        \"dtype\": \"int\"\n",
    "    }\n",
    "]\n",
    "arguments[\"image_feature_name\"] = \"image_raw\"\n",
    "arguments[\"image_encoding\"] = \"raw\"\n",
    "arguments[\"image_height\"] = 32\n",
    "arguments[\"image_width\"] = 32\n",
    "arguments[\"image_depth\"] = 3\n",
    "arguments[\"label_feature_name\"] = \"label\"\n",
    "\n",
    "# Training parameters.\n",
    "arguments[\"tf_version\"] = 2.2\n",
    "arguments[\"use_graph_mode\"] = True\n",
    "arguments[\"distribution_strategy\"] = \"Mirrored\"\n",
    "arguments[\"train_dataset_length\"] = 5000\n",
    "arguments[\"train_batch_size\"] = 32\n",
    "arguments[\"input_fn_autotune\"] = False\n",
    "arguments[\"save_checkpoints_steps\"] = 10\n",
    "arguments[\"keep_checkpoint_max\"] = 1000\n",
    "\n",
    "# ResNet parameters.\n",
    "arguments[\"resnet_weights\"] = \"imagenet\"\n",
    "arguments[\"resnet_layer_name\"] = \"conv4_block1_0_conv\"\n",
    "arguments[\"preprocess_input\"] = True\n",
    "\n",
    "# PCA parameters.\n",
    "arguments[\"num_cols\"] = 1024\n",
    "arguments[\"use_sample_covariance\"] = True\n",
    "arguments[\"top_k_pc\"] = 5\n"
   ]
  },
  {
   "cell_type": "markdown",
   "metadata": {},
   "source": [
    "## Dataset"
   ]
  },
  {
   "cell_type": "code",
   "execution_count": 3,
   "metadata": {},
   "outputs": [
    {
     "name": "stdout",
     "output_type": "stream",
     "text": [
      "WARNING:tensorflow:From /home/jupyter/artificial_intelligence/machine_learning/dimensionality_reduction/pca/tf_pca/pca_out_of_core_distributed_module/trainer/training_inputs.py:119: parallel_interleave (from tensorflow.python.data.experimental.ops.interleave_ops) is deprecated and will be removed in a future version.\n",
      "Instructions for updating:\n",
      "Use `tf.data.Dataset.interleave(map_func, cycle_length, block_length, num_parallel_calls=tf.data.experimental.AUTOTUNE)` instead. If sloppy execution is desired, use `tf.data.Options.experimental_deterministic`.\n"
     ]
    }
   ],
   "source": [
    "dataset = training_inputs.read_dataset(\n",
    "    file_pattern=arguments[\"train_file_pattern\"],\n",
    "    batch_size=arguments[\"train_batch_size\"],\n",
    "    params={\n",
    "        \"tf_record_example_schema\": arguments[\"tf_record_example_schema\"],\n",
    "        \"image_feature_name\": arguments[\"image_feature_name\"],\n",
    "        \"image_encoding\": arguments[\"image_encoding\"],\n",
    "        \"image_height\": arguments[\"image_height\"],\n",
    "        \"image_width\": arguments[\"image_width\"],\n",
    "        \"image_depth\": arguments[\"image_depth\"],\n",
    "        \"label_feature_name\": arguments[\"label_feature_name\"],\n",
    "        \"input_fn_autotune\": arguments[\"input_fn_autotune\"]\n",
    "    }\n",
    ")()"
   ]
  },
  {
   "cell_type": "code",
   "execution_count": 4,
   "metadata": {},
   "outputs": [
    {
     "name": "stdout",
     "output_type": "stream",
     "text": [
      "5000\n",
      "(8, 32, 32, 3)\n"
     ]
    }
   ],
   "source": [
    "image_count = 0\n",
    "for batch in dataset:\n",
    "    image_count += batch.shape[0]\n",
    "print(image_count)\n",
    "print(batch.shape)"
   ]
  },
  {
   "cell_type": "markdown",
   "metadata": {},
   "source": [
    "## Train model"
   ]
  },
  {
   "cell_type": "code",
   "execution_count": 5,
   "metadata": {},
   "outputs": [],
   "source": [
    "trainer = model.TrainModel(params=arguments)"
   ]
  },
  {
   "cell_type": "code",
   "execution_count": 6,
   "metadata": {},
   "outputs": [
    {
     "name": "stdout",
     "output_type": "stream",
     "text": [
      "INFO:tensorflow:Using MirroredStrategy with devices ('/job:localhost/replica:0/task:0/device:GPU:0', '/job:localhost/replica:0/task:0/device:GPU:1')\n",
      "Number of devices = 2\n",
      "Loading latest checkpoint: trained_models/pca/checkpoints/ckpt-78\n",
      "Checkpoint saved at trained_models/pca/checkpoints/ckpt-78\n",
      "WARNING:tensorflow:From /opt/conda/lib/python3.7/site-packages/tensorflow/python/training/tracking/tracking.py:111: Model.state_updates (from tensorflow.python.keras.engine.training) is deprecated and will be removed in a future version.\n",
      "Instructions for updating:\n",
      "This property should not be used in TensorFlow 2.0, as updates are applied automatically.\n",
      "WARNING:tensorflow:From /opt/conda/lib/python3.7/site-packages/tensorflow/python/training/tracking/tracking.py:111: Layer.updates (from tensorflow.python.keras.engine.base_layer) is deprecated and will be removed in a future version.\n",
      "Instructions for updating:\n",
      "This property should not be used in TensorFlow 2.0, as updates are applied automatically.\n",
      "INFO:tensorflow:Assets written to: trained_models/pca/export/20201110232937/assets\n"
     ]
    }
   ],
   "source": [
    "trainer.train_model()"
   ]
  },
  {
   "cell_type": "markdown",
   "metadata": {},
   "source": [
    "## Prediction"
   ]
  },
  {
   "cell_type": "code",
   "execution_count": 7,
   "metadata": {},
   "outputs": [],
   "source": [
    "def get_saved_model_serving_signatures(export_name, params):\n",
    "    \"\"\"Gets SavedModel's serving signatures for inference.\n",
    "\n",
    "    Args:\n",
    "        export_name: str, name of exported SavedModel.\n",
    "        params: dict, user passed parameters.\n",
    "\n",
    "    Returns:\n",
    "        Loaded SavedModel and its serving signatures for inference.\n",
    "    \"\"\"\n",
    "    loaded_model = tf.saved_model.load(\n",
    "        export_dir=os.path.join(\n",
    "            params[\"output_dir\"], \"export\", export_name\n",
    "        )\n",
    "    )\n",
    "    print(\"signature_keys = {}\".format(list(loaded_model.signatures.keys())))\n",
    "\n",
    "    infer = loaded_model.signatures[\"serving_default\"]\n",
    "    print(\"structured_outputs = {}\".format(infer.structured_outputs))\n",
    "\n",
    "    # Loaded model also needs to be returned so that infer can find the\n",
    "    # variables within the graph in the outer scope.\n",
    "    return loaded_model, infer\n"
   ]
  },
  {
   "cell_type": "code",
   "execution_count": 8,
   "metadata": {},
   "outputs": [],
   "source": [
    "def get_predictions(export_name, images, params):\n",
    "    \"\"\"Gets SavedModel's serving signatures for inference.\n",
    "\n",
    "    Args:\n",
    "        export_name: str, name of exported SavedModel.\n",
    "        images: tensor, rank 4 image tensor of shape\n",
    "            (batch_size, image_height, image_width, image_depth).\n",
    "        params: dict, user passed parameters.\n",
    "\n",
    "    Returns:\n",
    "        Loaded SavedModel and its serving signatures for inference.\n",
    "    \"\"\"\n",
    "    loaded_model, infer = get_saved_model_serving_signatures(\n",
    "        export_name, params\n",
    "    )\n",
    "\n",
    "    predictions = infer(serving_inputs=images)\n",
    "\n",
    "    return predictions\n"
   ]
  },
  {
   "cell_type": "code",
   "execution_count": 9,
   "metadata": {},
   "outputs": [
    {
     "name": "stdout",
     "output_type": "stream",
     "text": [
      "signature_keys = ['serving_default']\n",
      "structured_outputs = {'tf_op_layer_pca_projections': TensorSpec(shape=(None, 5), dtype=tf.float32, name='tf_op_layer_pca_projections')}\n"
     ]
    }
   ],
   "source": [
    "predictions = get_predictions(\n",
    "    export_name=\"20201110232937\", images=batch, params=arguments\n",
    ")"
   ]
  },
  {
   "cell_type": "code",
   "execution_count": 12,
   "metadata": {},
   "outputs": [
    {
     "data": {
      "text/plain": [
       "TensorShape([8, 5])"
      ]
     },
     "execution_count": 12,
     "metadata": {},
     "output_type": "execute_result"
    }
   ],
   "source": [
    "predictions[\"tf_op_layer_pca_projections\"].shape"
   ]
  },
  {
   "cell_type": "code",
   "execution_count": null,
   "metadata": {},
   "outputs": [],
   "source": []
  }
 ],
 "metadata": {
  "environment": {
   "name": "tf2-2-3-gpu.2-3.m56",
   "type": "gcloud",
   "uri": "gcr.io/deeplearning-platform-release/tf2-2-3-gpu.2-3:m56"
  },
  "kernelspec": {
   "display_name": "Python 3",
   "language": "python",
   "name": "python3"
  },
  "language_info": {
   "codemirror_mode": {
    "name": "ipython",
    "version": 3
   },
   "file_extension": ".py",
   "mimetype": "text/x-python",
   "name": "python",
   "nbconvert_exporter": "python",
   "pygments_lexer": "ipython3",
   "version": "3.7.8"
  }
 },
 "nbformat": 4,
 "nbformat_minor": 4
}
