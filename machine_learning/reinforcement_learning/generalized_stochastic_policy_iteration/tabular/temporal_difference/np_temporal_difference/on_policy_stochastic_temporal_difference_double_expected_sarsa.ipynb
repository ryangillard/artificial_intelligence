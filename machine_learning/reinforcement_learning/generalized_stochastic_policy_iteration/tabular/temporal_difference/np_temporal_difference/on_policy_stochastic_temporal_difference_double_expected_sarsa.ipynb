{
 "cells": [
  {
   "cell_type": "code",
   "execution_count": 141,
   "metadata": {},
   "outputs": [],
   "source": [
    "import numpy as np"
   ]
  },
  {
   "cell_type": "markdown",
   "metadata": {},
   "source": [
    "# Create environment"
   ]
  },
  {
   "cell_type": "code",
   "execution_count": 41,
   "metadata": {},
   "outputs": [],
   "source": [
    "num_states = 16\n",
    "num_terminal_states = 2\n",
    "num_non_terminal_states = num_states - num_terminal_states"
   ]
  },
  {
   "cell_type": "code",
   "execution_count": 42,
   "metadata": {},
   "outputs": [],
   "source": [
    "max_num_actions = 4"
   ]
  },
  {
   "cell_type": "code",
   "execution_count": 43,
   "metadata": {},
   "outputs": [],
   "source": [
    "num_actions_per_non_terminal_state = np.repeat(\n",
    "    a=max_num_actions, repeats=num_non_terminal_states)"
   ]
  },
  {
   "cell_type": "code",
   "execution_count": 44,
   "metadata": {},
   "outputs": [],
   "source": [
    "num_state_action_successor_states = np.repeat(\n",
    "    a=1, repeats=num_states * max_num_actions)"
   ]
  },
  {
   "cell_type": "code",
   "execution_count": 45,
   "metadata": {},
   "outputs": [],
   "source": [
    "num_state_action_successor_states = np.reshape(\n",
    "    a=num_state_action_successor_states,\n",
    "    newshape=(num_states, max_num_actions))"
   ]
  },
  {
   "cell_type": "code",
   "execution_count": 46,
   "metadata": {},
   "outputs": [],
   "source": [
    "sp_idx = np.array(\n",
    "    object=[1, 0, 14, 4,\n",
    "            2, 1, 0, 5,\n",
    "            2, 2, 1, 6,\n",
    "            4, 14, 3, 7,\n",
    "            5, 0, 3, 8,\n",
    "            6, 1, 4, 9,\n",
    "            6, 2, 5, 10,\n",
    "            8, 3, 7, 11,\n",
    "            9, 4, 7, 12,\n",
    "            10, 5, 8, 13,\n",
    "            10, 6, 9, 15,\n",
    "            12, 7, 11, 11,\n",
    "            13, 8, 11, 12,\n",
    "            15, 9, 12, 13],\n",
    "    dtype=np.int64)"
   ]
  },
  {
   "cell_type": "code",
   "execution_count": 47,
   "metadata": {},
   "outputs": [],
   "source": [
    "p = np.repeat(a=1.0, repeats=num_non_terminal_states * max_num_actions * 1)"
   ]
  },
  {
   "cell_type": "code",
   "execution_count": 48,
   "metadata": {},
   "outputs": [],
   "source": [
    "r = np.repeat(a=-1.0, repeats=num_non_terminal_states * max_num_actions * 1)"
   ]
  },
  {
   "cell_type": "code",
   "execution_count": 49,
   "metadata": {},
   "outputs": [],
   "source": [
    "sp_idx = np.reshape(\n",
    "    a=sp_idx,\n",
    "    newshape=(num_non_terminal_states, max_num_actions, 1))\n",
    "p = np.reshape(\n",
    "    a=p,\n",
    "    newshape=(num_non_terminal_states, max_num_actions, 1))\n",
    "r = np.reshape(\n",
    "    a=r,\n",
    "    newshape=(num_non_terminal_states, max_num_actions, 1))"
   ]
  },
  {
   "cell_type": "markdown",
   "metadata": {},
   "source": [
    "# Set hyperparameters"
   ]
  },
  {
   "cell_type": "code",
   "execution_count": 151,
   "metadata": {},
   "outputs": [],
   "source": [
    "# Set the number of episodes\n",
    "num_episodes = 10000\n",
    "# Set the maximum episode length\n",
    "maximum_episode_length = 200\n",
    "# Set learning rate alpha\n",
    "alpha = 0.1\n",
    "# Set epsilon for our epsilon level of exploration\n",
    "epsilon = 0.1\n",
    "# Set discounting factor gamma\n",
    "gamma = 1.0"
   ]
  },
  {
   "cell_type": "markdown",
   "metadata": {},
   "source": [
    "# Create value function and policy arrays"
   ]
  },
  {
   "cell_type": "code",
   "execution_count": 152,
   "metadata": {},
   "outputs": [],
   "source": [
    "q1 = np.repeat(a=0.0, repeats=num_states * max_num_actions)\n",
    "q1 = np.reshape(a=q1, newshape=(num_states, max_num_actions))\n",
    "\n",
    "q2 = np.repeat(a=0.0, repeats=num_states * max_num_actions)\n",
    "q2 = np.reshape(a=q2, newshape=(num_states, max_num_actions))"
   ]
  },
  {
   "cell_type": "code",
   "execution_count": 153,
   "metadata": {},
   "outputs": [],
   "source": [
    "policy = np.repeat(\n",
    "    a=1.0 / max_num_actions, repeats=num_non_terminal_states * max_num_actions)\n",
    "policy = np.reshape(\n",
    "    a=policy, newshape=(num_non_terminal_states, max_num_actions))"
   ]
  },
  {
   "cell_type": "markdown",
   "metadata": {},
   "source": [
    "# Create algorithm"
   ]
  },
  {
   "cell_type": "code",
   "execution_count": 154,
   "metadata": {},
   "outputs": [],
   "source": [
    "# Set random seed so that everything is reproducible\n",
    "np.random.seed(seed=0)"
   ]
  },
  {
   "cell_type": "code",
   "execution_count": 155,
   "metadata": {},
   "outputs": [],
   "source": [
    "# This function initializes episodes\n",
    "def initialize_epsiode(num_non_terminal_states):\n",
    "    # Initial state\n",
    "    # Randomly choose an initial state from all non-terminal states\n",
    "    init_s_idx = np.random.randint(\n",
    "        low=0, high=num_non_terminal_states, dtype=np.int64)\n",
    "\n",
    "    return init_s_idx"
   ]
  },
  {
   "cell_type": "code",
   "execution_count": 156,
   "metadata": {},
   "outputs": [],
   "source": [
    "# This function selects a policy greedily from the state-action-value function\n",
    "def epsilon_greedy_policy_from_state_action_function(\n",
    "        max_num_actions, q1, q2, epsilon, s_idx, policy):\n",
    "    # Combine state-action value functions\n",
    "    q = q1[s_idx, :] + q2[s_idx, :]\n",
    "\n",
    "    # Save max state-action value and find the number of actions that have the\n",
    "    # same max state-action value\n",
    "    max_action_value = np.max(a=q)\n",
    "    max_action_count = np.count_nonzero(a=q == max_action_value)\n",
    "\n",
    "    # Apportion policy probability across ties equally for state-action pairs\n",
    "    # that have the same value and zero otherwise\n",
    "    if max_action_count == max_num_actions:\n",
    "        max_policy_prob_per_action = 1.0 / max_action_count\n",
    "        remain_prob_per_action = 0.0\n",
    "    else:\n",
    "        max_policy_prob_per_action = (1.0 - epsilon) / max_action_count\n",
    "        remain_prob_per_action = epsilon / (max_num_actions - max_action_count)\n",
    "\n",
    "    policy[s_idx, :] = np.where(\n",
    "        q == max_action_value,\n",
    "        max_policy_prob_per_action,\n",
    "        remain_prob_per_action)\n",
    "\n",
    "    return policy"
   ]
  },
  {
   "cell_type": "code",
   "execution_count": 157,
   "metadata": {},
   "outputs": [],
   "source": [
    "# This function loops through episodes and updates the policy\n",
    "def loop_through_episode(\n",
    "        num_non_terminal_states,\n",
    "        max_num_actions,\n",
    "        num_state_action_successor_states,\n",
    "        sp_idx,\n",
    "        p,\n",
    "        r,\n",
    "        q1,\n",
    "        q2,\n",
    "        policy,\n",
    "        alpha,\n",
    "        epsilon,\n",
    "        gamma,\n",
    "        maximum_episode_length,\n",
    "        s_idx):\n",
    "    # Loop through episode steps until termination\n",
    "    for t in range(0, maximum_episode_length):\n",
    "        # Choose policy for chosen state by epsilon-greedy choosing from the\n",
    "        # state-action-value function\n",
    "        policy = epsilon_greedy_policy_from_state_action_function(\n",
    "            max_num_actions, q1, q2, epsilon, s_idx, policy)\n",
    "\n",
    "        # Get epsilon-greedy action\n",
    "        a_idx = np.random.choice(\n",
    "            a=max_num_actions, p=policy[s_idx, :])\n",
    "\n",
    "        # Get reward\n",
    "        successor_state_transition_idx = np.random.choice(\n",
    "            a=num_state_action_successor_states[s_idx, a_idx],\n",
    "            p=p[s_idx, a_idx, :])\n",
    "\n",
    "        reward = r[s_idx, a_idx, successor_state_transition_idx]\n",
    "\n",
    "        # Get next state\n",
    "        next_s_idx = sp_idx[s_idx, a_idx, successor_state_transition_idx]\n",
    "\n",
    "        # Update state action value equally randomly selecting from the\n",
    "        # state-action-value functions\n",
    "        if (np.random.randint(low=0, high=2, dtype=np.int64) == 0):\n",
    "            q1, q2, policy, s_idx = update_q(\n",
    "                num_non_terminal_states,\n",
    "                max_num_actions,\n",
    "                q2,\n",
    "                policy,\n",
    "                alpha,\n",
    "                epsilon,\n",
    "                gamma,\n",
    "                s_idx,\n",
    "                a_idx,\n",
    "                reward,\n",
    "                next_s_idx,\n",
    "                q1)\n",
    "        else:\n",
    "            q2, q1, policy, s_idx = update_q(\n",
    "                num_non_terminal_states,\n",
    "                max_num_actions,\n",
    "                q1,\n",
    "                policy,\n",
    "                alpha,\n",
    "                epsilon,\n",
    "                gamma,\n",
    "                s_idx,\n",
    "                a_idx,\n",
    "                reward,\n",
    "                next_s_idx,\n",
    "                q2)\n",
    "\n",
    "        if next_s_idx >= num_non_terminal_states:\n",
    "            break  # episode terminated since we ended up in a terminal state\n",
    "\n",
    "    return q1, q2, policy"
   ]
  },
  {
   "cell_type": "code",
   "execution_count": 158,
   "metadata": {},
   "outputs": [],
   "source": [
    "# This function updates the state-action-value function\n",
    "def update_q(\n",
    "        num_non_terminal_states,\n",
    "        max_num_actions,\n",
    "        not_updating_q,\n",
    "        policy,\n",
    "        alpha,\n",
    "        epsilon,\n",
    "        gamma,\n",
    "        s_idx,\n",
    "        a_idx,\n",
    "        reward,\n",
    "        next_s_idx,\n",
    "        updating_q):\n",
    "    # Check to see if we actioned into a terminal state\n",
    "    if next_s_idx >= num_non_terminal_states:\n",
    "        updating_q[s_idx, a_idx] += alpha * (reward - updating_q[s_idx, a_idx])\n",
    "    else:\n",
    "        # Get next action, using expectation value\n",
    "        not_updating_v_expected_value_on_policy = np.sum(\n",
    "            a=policy[next_s_idx, :] * not_updating_q[next_s_idx, :])\n",
    "\n",
    "        # Calculate state-action-function expectation\n",
    "        delta = gamma * not_updating_v_expected_value_on_policy\n",
    "        delta -= updating_q[s_idx, a_idx]\n",
    "        updating_q[s_idx, a_idx] += alpha * (reward + delta)\n",
    "\n",
    "        # Update state and action to next state and action\n",
    "        s_idx = next_s_idx\n",
    "        \n",
    "    return updating_q, not_updating_q, policy, s_idx"
   ]
  },
  {
   "cell_type": "code",
   "execution_count": 159,
   "metadata": {},
   "outputs": [],
   "source": [
    "def on_policy_temporal_difference_double_expected_sarsa(\n",
    "        num_non_terminal_states,\n",
    "        max_num_actions,\n",
    "        num_state_action_successor_states,\n",
    "        sp_idx,\n",
    "        p,\n",
    "        r,\n",
    "        q1,\n",
    "        q2,\n",
    "        policy,\n",
    "        alpha,\n",
    "        epsilon,\n",
    "        gamma,\n",
    "        maximum_episode_length):\n",
    "    for episode in range(0, num_episodes):\n",
    "        # Initialize episode to get initial state\n",
    "        init_s_idx = initialize_epsiode(num_non_terminal_states)\n",
    "\n",
    "        # Loop through episode and update the policy\n",
    "        q1, q2, policy = loop_through_episode(\n",
    "            num_non_terminal_states,\n",
    "            max_num_actions,\n",
    "            num_state_action_successor_states,\n",
    "            sp_idx,\n",
    "            p,\n",
    "            r,\n",
    "            q1,\n",
    "            q2,\n",
    "            policy,\n",
    "            alpha,\n",
    "            epsilon,\n",
    "            gamma,\n",
    "            maximum_episode_length,\n",
    "            init_s_idx)\n",
    "\n",
    "    return q1, q2, policy"
   ]
  },
  {
   "cell_type": "markdown",
   "metadata": {},
   "source": [
    "# Run algorithm"
   ]
  },
  {
   "cell_type": "code",
   "execution_count": 160,
   "metadata": {},
   "outputs": [
    {
     "name": "stdout",
     "output_type": "stream",
     "text": [
      "\n",
      "Initial state-action value function1\n",
      "[[0. 0. 0. 0.]\n",
      " [0. 0. 0. 0.]\n",
      " [0. 0. 0. 0.]\n",
      " [0. 0. 0. 0.]\n",
      " [0. 0. 0. 0.]\n",
      " [0. 0. 0. 0.]\n",
      " [0. 0. 0. 0.]\n",
      " [0. 0. 0. 0.]\n",
      " [0. 0. 0. 0.]\n",
      " [0. 0. 0. 0.]\n",
      " [0. 0. 0. 0.]\n",
      " [0. 0. 0. 0.]\n",
      " [0. 0. 0. 0.]\n",
      " [0. 0. 0. 0.]\n",
      " [0. 0. 0. 0.]\n",
      " [0. 0. 0. 0.]]\n",
      "\n",
      "Initial state-action value function2\n",
      "[[0. 0. 0. 0.]\n",
      " [0. 0. 0. 0.]\n",
      " [0. 0. 0. 0.]\n",
      " [0. 0. 0. 0.]\n",
      " [0. 0. 0. 0.]\n",
      " [0. 0. 0. 0.]\n",
      " [0. 0. 0. 0.]\n",
      " [0. 0. 0. 0.]\n",
      " [0. 0. 0. 0.]\n",
      " [0. 0. 0. 0.]\n",
      " [0. 0. 0. 0.]\n",
      " [0. 0. 0. 0.]\n",
      " [0. 0. 0. 0.]\n",
      " [0. 0. 0. 0.]\n",
      " [0. 0. 0. 0.]\n",
      " [0. 0. 0. 0.]]\n",
      "\n",
      "Initial policy\n",
      "[[0.25 0.25 0.25 0.25]\n",
      " [0.25 0.25 0.25 0.25]\n",
      " [0.25 0.25 0.25 0.25]\n",
      " [0.25 0.25 0.25 0.25]\n",
      " [0.25 0.25 0.25 0.25]\n",
      " [0.25 0.25 0.25 0.25]\n",
      " [0.25 0.25 0.25 0.25]\n",
      " [0.25 0.25 0.25 0.25]\n",
      " [0.25 0.25 0.25 0.25]\n",
      " [0.25 0.25 0.25 0.25]\n",
      " [0.25 0.25 0.25 0.25]\n",
      " [0.25 0.25 0.25 0.25]\n",
      " [0.25 0.25 0.25 0.25]\n",
      " [0.25 0.25 0.25 0.25]]\n",
      "\n",
      "Final state-action value function1\n",
      "[[-3.29893306 -2.15890896 -1.         -3.29412976]\n",
      " [-4.04716222 -3.20255876 -2.19074196 -4.09904079]\n",
      " [-3.89296476 -3.99604129 -3.33125862 -3.33513997]\n",
      " [-3.29820845 -1.         -2.16189012 -3.28026112]\n",
      " [-3.85407223 -2.19033733 -2.19080972 -4.08047777]\n",
      " [-3.32095546 -3.31331744 -3.31729044 -3.31026962]\n",
      " [-3.16238539 -4.00677683 -4.0182842  -2.19098251]\n",
      " [-4.11769359 -2.19079535 -3.15816588 -4.00754277]\n",
      " [-3.31116669 -3.31893669 -3.30896758 -3.31882123]\n",
      " [-2.19094385 -4.08505766 -4.16507356 -2.18945275]\n",
      " [-2.16890801 -3.29896658 -3.24094859 -1.        ]\n",
      " [-3.33712509 -3.33168678 -3.94620409 -3.95132327]\n",
      " [-2.18971195 -3.81708915 -4.15895556 -3.164732  ]\n",
      " [-1.         -3.27402002 -3.30182016 -2.17920996]\n",
      " [ 0.          0.          0.          0.        ]\n",
      " [ 0.          0.          0.          0.        ]]\n",
      "\n",
      "Final state-action value function2\n",
      "[[-3.29288412 -2.18077791 -1.         -3.25517293]\n",
      " [-4.14263355 -2.90517487 -2.19160987 -3.76545345]\n",
      " [-4.05260051 -3.90674217 -3.34275257 -3.3389773 ]\n",
      " [-3.27832716 -1.         -2.18044582 -3.27493429]\n",
      " [-4.07118798 -2.19127147 -2.19073825 -4.21375421]\n",
      " [-3.30652632 -3.31051934 -3.30615965 -3.31366827]\n",
      " [-3.12791311 -4.12556379 -4.06618593 -2.18978812]\n",
      " [-3.84395695 -2.19069344 -3.18672492 -3.937081  ]\n",
      " [-3.31392522 -3.30550608 -3.31767721 -3.3106598 ]\n",
      " [-2.18975942 -4.09485665 -4.02162953 -2.19125347]\n",
      " [-2.16823713 -3.31372851 -3.25681742 -1.        ]\n",
      " [-3.33568029 -3.3409594  -4.13965527 -3.84021089]\n",
      " [-2.19175588 -3.83054294 -4.01043516 -3.21880709]\n",
      " [-1.         -3.29485041 -3.24318268 -2.16297192]\n",
      " [ 0.          0.          0.          0.        ]\n",
      " [ 0.          0.          0.          0.        ]]\n",
      "\n",
      "Final policy\n",
      "[[0.03333333 0.03333333 0.9        0.03333333]\n",
      " [0.03333333 0.03333333 0.9        0.03333333]\n",
      " [0.03333333 0.03333333 0.03333333 0.9       ]\n",
      " [0.03333333 0.9        0.03333333 0.03333333]\n",
      " [0.03333333 0.9        0.03333333 0.03333333]\n",
      " [0.9        0.03333333 0.03333333 0.03333333]\n",
      " [0.03333333 0.03333333 0.03333333 0.9       ]\n",
      " [0.03333333 0.9        0.03333333 0.03333333]\n",
      " [0.03333333 0.9        0.03333333 0.03333333]\n",
      " [0.9        0.03333333 0.03333333 0.03333333]\n",
      " [0.03333333 0.03333333 0.03333333 0.9       ]\n",
      " [0.9        0.03333333 0.03333333 0.03333333]\n",
      " [0.9        0.03333333 0.03333333 0.03333333]\n",
      " [0.9        0.03333333 0.03333333 0.03333333]]\n"
     ]
    }
   ],
   "source": [
    "# Print initial arrays\n",
    "print(\"\\nInitial state-action value function1\")\n",
    "print(q1)\n",
    "\n",
    "print(\"\\nInitial state-action value function2\")\n",
    "print(q2)\n",
    "\n",
    "print(\"\\nInitial policy\")\n",
    "print(policy)\n",
    "\n",
    "# Run on policy temporal difference double expected sarsa\n",
    "q1, q2, policy = on_policy_temporal_difference_double_expected_sarsa(\n",
    "    num_non_terminal_states,\n",
    "    max_num_actions,\n",
    "    num_state_action_successor_states,\n",
    "    sp_idx,\n",
    "    p,\n",
    "    r,\n",
    "    q1,\n",
    "    q2,\n",
    "    policy,\n",
    "    alpha,\n",
    "    epsilon,\n",
    "    gamma,\n",
    "    maximum_episode_length)\n",
    "\n",
    "# Print final results\n",
    "print(\"\\nFinal state-action value function1\")\n",
    "print(q1)\n",
    "\n",
    "print(\"\\nFinal state-action value function2\")\n",
    "print(q2)\n",
    "\n",
    "print(\"\\nFinal policy\")\n",
    "print(policy)"
   ]
  },
  {
   "cell_type": "code",
   "execution_count": null,
   "metadata": {},
   "outputs": [],
   "source": []
  }
 ],
 "metadata": {
  "kernelspec": {
   "display_name": "Python 3",
   "language": "python",
   "name": "python3"
  },
  "language_info": {
   "codemirror_mode": {
    "name": "ipython",
    "version": 3
   },
   "file_extension": ".py",
   "mimetype": "text/x-python",
   "name": "python",
   "nbconvert_exporter": "python",
   "pygments_lexer": "ipython3",
   "version": "3.5.3"
  }
 },
 "nbformat": 4,
 "nbformat_minor": 4
}
