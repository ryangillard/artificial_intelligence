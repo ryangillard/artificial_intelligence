{
 "cells": [
  {
   "cell_type": "code",
   "execution_count": 204,
   "metadata": {},
   "outputs": [],
   "source": [
    "import numpy as np"
   ]
  },
  {
   "cell_type": "markdown",
   "metadata": {},
   "source": [
    "# Create environment"
   ]
  },
  {
   "cell_type": "code",
   "execution_count": 41,
   "metadata": {},
   "outputs": [],
   "source": [
    "num_states = 16\n",
    "num_terminal_states = 2\n",
    "num_non_terminal_states = num_states - num_terminal_states"
   ]
  },
  {
   "cell_type": "code",
   "execution_count": 42,
   "metadata": {},
   "outputs": [],
   "source": [
    "max_num_actions = 4"
   ]
  },
  {
   "cell_type": "code",
   "execution_count": 43,
   "metadata": {},
   "outputs": [],
   "source": [
    "num_actions_per_non_terminal_state = np.repeat(\n",
    "    a=max_num_actions, repeats=num_non_terminal_states)"
   ]
  },
  {
   "cell_type": "code",
   "execution_count": 44,
   "metadata": {},
   "outputs": [],
   "source": [
    "num_state_action_successor_states = np.repeat(\n",
    "    a=1, repeats=num_states * max_num_actions)"
   ]
  },
  {
   "cell_type": "code",
   "execution_count": 45,
   "metadata": {},
   "outputs": [],
   "source": [
    "num_state_action_successor_states = np.reshape(\n",
    "    a=num_state_action_successor_states,\n",
    "    newshape=(num_states, max_num_actions))"
   ]
  },
  {
   "cell_type": "code",
   "execution_count": 46,
   "metadata": {},
   "outputs": [],
   "source": [
    "sp_idx = np.array(\n",
    "    object=[1, 0, 14, 4,\n",
    "            2, 1, 0, 5,\n",
    "            2, 2, 1, 6,\n",
    "            4, 14, 3, 7,\n",
    "            5, 0, 3, 8,\n",
    "            6, 1, 4, 9,\n",
    "            6, 2, 5, 10,\n",
    "            8, 3, 7, 11,\n",
    "            9, 4, 7, 12,\n",
    "            10, 5, 8, 13,\n",
    "            10, 6, 9, 15,\n",
    "            12, 7, 11, 11,\n",
    "            13, 8, 11, 12,\n",
    "            15, 9, 12, 13],\n",
    "    dtype=np.int64)"
   ]
  },
  {
   "cell_type": "code",
   "execution_count": 47,
   "metadata": {},
   "outputs": [],
   "source": [
    "p = np.repeat(a=1.0, repeats=num_non_terminal_states * max_num_actions * 1)"
   ]
  },
  {
   "cell_type": "code",
   "execution_count": 48,
   "metadata": {},
   "outputs": [],
   "source": [
    "r = np.repeat(a=-1.0, repeats=num_non_terminal_states * max_num_actions * 1)"
   ]
  },
  {
   "cell_type": "code",
   "execution_count": 49,
   "metadata": {},
   "outputs": [],
   "source": [
    "sp_idx = np.reshape(\n",
    "    a=sp_idx,\n",
    "    newshape=(num_non_terminal_states, max_num_actions, 1))\n",
    "p = np.reshape(\n",
    "    a=p,\n",
    "    newshape=(num_non_terminal_states, max_num_actions, 1))\n",
    "r = np.reshape(\n",
    "    a=r,\n",
    "    newshape=(num_non_terminal_states, max_num_actions, 1))"
   ]
  },
  {
   "cell_type": "markdown",
   "metadata": {},
   "source": [
    "# Set hyperparameters"
   ]
  },
  {
   "cell_type": "code",
   "execution_count": 214,
   "metadata": {},
   "outputs": [],
   "source": [
    "# Set the number of episodes\n",
    "num_episodes = 800000\n",
    "# Set the maximum episode length\n",
    "maximum_episode_length = 200\n",
    "# Set learning rate alpha\n",
    "alpha = 0.001\n",
    "# Set epsilon for our epsilon level of exploration\n",
    "epsilon = 0.05\n",
    "# Set discounting factor gamma\n",
    "gamma = 1.0"
   ]
  },
  {
   "cell_type": "markdown",
   "metadata": {},
   "source": [
    "# Create value function and policy arrays"
   ]
  },
  {
   "cell_type": "code",
   "execution_count": 215,
   "metadata": {},
   "outputs": [],
   "source": [
    "q = np.repeat(a=0.0, repeats=num_states * max_num_actions)\n",
    "q = np.reshape(a=q, newshape=(num_states, max_num_actions))"
   ]
  },
  {
   "cell_type": "code",
   "execution_count": 216,
   "metadata": {},
   "outputs": [],
   "source": [
    "policy = np.repeat(\n",
    "    a=1.0 / max_num_actions, repeats=num_non_terminal_states * max_num_actions)\n",
    "policy = np.reshape(\n",
    "    a=policy, newshape=(num_non_terminal_states, max_num_actions))"
   ]
  },
  {
   "cell_type": "markdown",
   "metadata": {},
   "source": [
    "# Create algorithm"
   ]
  },
  {
   "cell_type": "code",
   "execution_count": 217,
   "metadata": {},
   "outputs": [],
   "source": [
    "# Set random seed so that everything is reproducible\n",
    "np.random.seed(seed=0)"
   ]
  },
  {
   "cell_type": "code",
   "execution_count": 218,
   "metadata": {},
   "outputs": [],
   "source": [
    "# This function initializes episodes\n",
    "def initialize_epsiode(num_non_terminal_states):\n",
    "    # Initial state\n",
    "    # Randomly choose an initial state from all non-terminal states\n",
    "    init_s_idx = np.random.randint(\n",
    "        low=0, high=num_non_terminal_states, dtype=np.int64)\n",
    "\n",
    "    return init_s_idx"
   ]
  },
  {
   "cell_type": "code",
   "execution_count": 219,
   "metadata": {},
   "outputs": [],
   "source": [
    "# This function selects a policy greedily from the state-action-value function\n",
    "def epsilon_greedy_policy_from_state_action_function(\n",
    "        max_num_actions, q, epsilon, s_idx, policy):\n",
    "    # Save max state-action value and find the number of actions that have the\n",
    "    # same max state-action value\n",
    "    max_action_value = np.max(a=q[s_idx, :])\n",
    "    max_action_count = np.count_nonzero(a=q[s_idx, :] == max_action_value)\n",
    "\n",
    "    # Apportion policy probability across ties equally for state-action pairs\n",
    "    # that have the same value and zero otherwise\n",
    "    if max_action_count == max_num_actions:\n",
    "        max_policy_prob_per_action = 1.0 / max_action_count\n",
    "        remain_prob_per_action = 0.0\n",
    "    else:\n",
    "        max_policy_prob_per_action = (1.0 - epsilon) / max_action_count\n",
    "        remain_prob_per_action = epsilon / (max_num_actions - max_action_count)\n",
    "\n",
    "    policy[s_idx, :] = np.where(\n",
    "        q[s_idx, :] == max_action_value,\n",
    "        max_policy_prob_per_action,\n",
    "        remain_prob_per_action)\n",
    "\n",
    "    return policy"
   ]
  },
  {
   "cell_type": "code",
   "execution_count": null,
   "metadata": {},
   "outputs": [],
   "source": [
    "# This function loops through episodes and updates the policy\n",
    "def loop_through_episode(\n",
    "        num_non_terminal_states,\n",
    "        max_num_actions,\n",
    "        num_state_action_successor_states,\n",
    "        sp_idx,\n",
    "        p,\n",
    "        r,\n",
    "        q,\n",
    "        policy,\n",
    "        alpha,\n",
    "        epsilon,\n",
    "        gamma,\n",
    "        maximum_episode_length,\n",
    "        s_idx):\n",
    "    # Loop through episode steps until termination\n",
    "    for t in range(0, maximum_episode_length):\n",
    "        # Choose policy for chosen state by epsilon-greedy choosing from the\n",
    "        # state-action-value function\n",
    "        policy = epsilon_greedy_policy_from_state_action_function(\n",
    "            max_num_actions, q, epsilon, s_idx, policy)\n",
    "\n",
    "        # Get epsilon-greedy action\n",
    "        a_idx = np.random.choice(a=max_num_actions, p=policy[s_idx, :])\n",
    "\n",
    "        # Get reward\n",
    "        successor_state_transition_idx = np.random.choice(\n",
    "            a=num_state_action_successor_states[s_idx, a_idx],\n",
    "            p=p[s_idx, a_idx, :])\n",
    "\n",
    "        reward = r[s_idx, a_idx, successor_state_transition_idx]\n",
    "\n",
    "        # Get next state\n",
    "        next_s_idx = sp_idx[s_idx,\n",
    "                            a_idx,\n",
    "                            successor_state_transition_idx]\n",
    "\n",
    "        # Check to see if we actioned into a terminal state\n",
    "        if next_s_idx >= num_non_terminal_states:\n",
    "            q[s_idx, a_idx] += alpha * (reward - q[s_idx, a_idx])\n",
    "            break  # episode terminated since we ended up in a terminal state\n",
    "        else:\n",
    "            # Get next action, max action of next state\n",
    "            max_action_value = np.max(a=q[s_idx, :])\n",
    "            max_action_stack = np.extract(\n",
    "                condition=q[s_idx, :] == max_action_value,\n",
    "                arr=np.arange(max_num_actions))\n",
    "\n",
    "            next_a_idx = np.random.choice(a=max_action_stack)\n",
    "\n",
    "            # Calculate state-action-function using quintuple SARSA\n",
    "            delta = gamma * q[next_s_idx, next_a_idx] - q[s_idx, a_idx]\n",
    "            q[s_idx, a_idx] += alpha * (reward + delta)\n",
    "\n",
    "            # Update state and action to next state and action\n",
    "            s_idx = next_s_idx\n",
    "            a_idx = next_a_idx\n",
    "\n",
    "    return q, policy"
   ]
  },
  {
   "cell_type": "code",
   "execution_count": 221,
   "metadata": {},
   "outputs": [],
   "source": [
    "def off_policy_temporal_difference_q_learning(\n",
    "        num_non_terminal_states,\n",
    "        max_num_actions,\n",
    "        num_state_action_successor_states,\n",
    "        sp_idx,\n",
    "        p,\n",
    "        r,\n",
    "        q,\n",
    "        policy,\n",
    "        alpha,\n",
    "        epsilon,\n",
    "        gamma,\n",
    "        maximum_episode_length):\n",
    "    for episode in range(0, num_episodes):\n",
    "        # Initialize episode to get initial state\n",
    "        init_s_idx = initialize_epsiode(num_non_terminal_states)\n",
    "\n",
    "        # Loop through episode and update the policy\n",
    "        q, policy = loop_through_episode(\n",
    "            num_non_terminal_states,\n",
    "            max_num_actions,\n",
    "            num_state_action_successor_states,\n",
    "            sp_idx,\n",
    "            p,\n",
    "            r,\n",
    "            q,\n",
    "            policy,\n",
    "            alpha,\n",
    "            epsilon,\n",
    "            gamma,\n",
    "            maximum_episode_length,\n",
    "            init_s_idx)\n",
    "\n",
    "    return q, policy"
   ]
  },
  {
   "cell_type": "markdown",
   "metadata": {},
   "source": [
    "# Run algorithm"
   ]
  },
  {
   "cell_type": "code",
   "execution_count": 222,
   "metadata": {},
   "outputs": [
    {
     "name": "stdout",
     "output_type": "stream",
     "text": [
      "\n",
      "Initial state-action value function\n",
      "[[0. 0. 0. 0.]\n",
      " [0. 0. 0. 0.]\n",
      " [0. 0. 0. 0.]\n",
      " [0. 0. 0. 0.]\n",
      " [0. 0. 0. 0.]\n",
      " [0. 0. 0. 0.]\n",
      " [0. 0. 0. 0.]\n",
      " [0. 0. 0. 0.]\n",
      " [0. 0. 0. 0.]\n",
      " [0. 0. 0. 0.]\n",
      " [0. 0. 0. 0.]\n",
      " [0. 0. 0. 0.]\n",
      " [0. 0. 0. 0.]\n",
      " [0. 0. 0. 0.]\n",
      " [0. 0. 0. 0.]\n",
      " [0. 0. 0. 0.]]\n",
      "\n",
      "Initial policy\n",
      "[[0.25 0.25 0.25 0.25]\n",
      " [0.25 0.25 0.25 0.25]\n",
      " [0.25 0.25 0.25 0.25]\n",
      " [0.25 0.25 0.25 0.25]\n",
      " [0.25 0.25 0.25 0.25]\n",
      " [0.25 0.25 0.25 0.25]\n",
      " [0.25 0.25 0.25 0.25]\n",
      " [0.25 0.25 0.25 0.25]\n",
      " [0.25 0.25 0.25 0.25]\n",
      " [0.25 0.25 0.25 0.25]\n",
      " [0.25 0.25 0.25 0.25]\n",
      " [0.25 0.25 0.25 0.25]\n",
      " [0.25 0.25 0.25 0.25]\n",
      " [0.25 0.25 0.25 0.25]]\n",
      "\n",
      "Final state-action value function\n",
      "[[-2.93441027 -1.96389677 -1.         -3.75308357]\n",
      " [-4.05220787 -2.82856048 -2.         -4.1777773 ]\n",
      " [-3.60254753 -3.55510098 -3.85020281 -3.        ]\n",
      " [-3.75848856 -1.         -1.97068142 -2.93089517]\n",
      " [-3.81819807 -2.94932542 -2.94886696 -3.71628299]\n",
      " [-3.94360693 -3.82222806 -3.82225132 -3.92448235]\n",
      " [-2.86091681 -3.71416527 -4.29439936 -2.        ]\n",
      " [-4.28057686 -2.         -2.8536478  -3.72663861]\n",
      " [-3.82053602 -3.9168739  -3.95957997 -3.82054164]\n",
      " [-2.94583097 -3.77821614 -3.75614004 -2.94584272]\n",
      " [-1.96713924 -2.93501657 -3.76654845 -1.        ]\n",
      " [-3.81301489 -3.         -3.57721425 -3.57687184]\n",
      " [-2.         -4.15801361 -4.08057578 -2.82719577]\n",
      " [-1.         -3.75280413 -2.93450107 -1.96657591]\n",
      " [ 0.          0.          0.          0.        ]\n",
      " [ 0.          0.          0.          0.        ]]\n",
      "\n",
      "Final policy\n",
      "[[0.01666667 0.01666667 0.95       0.01666667]\n",
      " [0.01666667 0.01666667 0.95       0.01666667]\n",
      " [0.01666667 0.01666667 0.01666667 0.95      ]\n",
      " [0.01666667 0.95       0.01666667 0.01666667]\n",
      " [0.01666667 0.01666667 0.95       0.01666667]\n",
      " [0.01666667 0.95       0.01666667 0.01666667]\n",
      " [0.01666667 0.01666667 0.01666667 0.95      ]\n",
      " [0.01666667 0.95       0.01666667 0.01666667]\n",
      " [0.01666667 0.01666667 0.01666667 0.95      ]\n",
      " [0.01666667 0.01666667 0.01666667 0.95      ]\n",
      " [0.01666667 0.01666667 0.01666667 0.95      ]\n",
      " [0.01666667 0.95       0.01666667 0.01666667]\n",
      " [0.95       0.01666667 0.01666667 0.01666667]\n",
      " [0.95       0.01666667 0.01666667 0.01666667]]\n"
     ]
    }
   ],
   "source": [
    "# Print initial arrays\n",
    "print(\"\\nInitial state-action value function\")\n",
    "print(q)\n",
    "\n",
    "print(\"\\nInitial policy\")\n",
    "print(policy)\n",
    "\n",
    "# Run off policy temporal difference q learning\n",
    "q, policy = off_policy_temporal_difference_q_learning(\n",
    "    num_non_terminal_states,\n",
    "    max_num_actions,\n",
    "    num_state_action_successor_states,\n",
    "    sp_idx,\n",
    "    p,\n",
    "    r,\n",
    "    q,\n",
    "    policy,\n",
    "    alpha,\n",
    "    epsilon,\n",
    "    gamma,\n",
    "    maximum_episode_length)\n",
    "\n",
    "# Print final results\n",
    "print(\"\\nFinal state-action value function\")\n",
    "print(q)\n",
    "\n",
    "print(\"\\nFinal policy\")\n",
    "print(policy)"
   ]
  }
 ],
 "metadata": {
  "kernelspec": {
   "display_name": "Python 3",
   "language": "python",
   "name": "python3"
  },
  "language_info": {
   "codemirror_mode": {
    "name": "ipython",
    "version": 3
   },
   "file_extension": ".py",
   "mimetype": "text/x-python",
   "name": "python",
   "nbconvert_exporter": "python",
   "pygments_lexer": "ipython3",
   "version": "3.5.3"
  }
 },
 "nbformat": 4,
 "nbformat_minor": 4
}
