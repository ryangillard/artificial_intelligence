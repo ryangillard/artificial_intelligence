{
 "cells": [
  {
   "cell_type": "code",
   "execution_count": 40,
   "metadata": {},
   "outputs": [],
   "source": [
    "import numpy as np"
   ]
  },
  {
   "cell_type": "markdown",
   "metadata": {},
   "source": [
    "# Create environment"
   ]
  },
  {
   "cell_type": "code",
   "execution_count": 41,
   "metadata": {},
   "outputs": [],
   "source": [
    "num_states = 16\n",
    "num_terminal_states = 2\n",
    "num_non_terminal_states = num_states - num_terminal_states"
   ]
  },
  {
   "cell_type": "code",
   "execution_count": 42,
   "metadata": {},
   "outputs": [],
   "source": [
    "max_num_actions = 4"
   ]
  },
  {
   "cell_type": "code",
   "execution_count": 43,
   "metadata": {},
   "outputs": [],
   "source": [
    "num_actions_per_non_terminal_state = np.repeat(\n",
    "    a=max_num_actions, repeats=num_non_terminal_states)"
   ]
  },
  {
   "cell_type": "code",
   "execution_count": 44,
   "metadata": {},
   "outputs": [],
   "source": [
    "num_state_action_successor_states = np.repeat(\n",
    "    a=1, repeats=num_states * max_num_actions)"
   ]
  },
  {
   "cell_type": "code",
   "execution_count": 45,
   "metadata": {},
   "outputs": [],
   "source": [
    "num_state_action_successor_states = np.reshape(\n",
    "    a=num_state_action_successor_states,\n",
    "    newshape=(num_states, max_num_actions))"
   ]
  },
  {
   "cell_type": "code",
   "execution_count": 46,
   "metadata": {},
   "outputs": [],
   "source": [
    "sp_idx = np.array(\n",
    "    object=[1, 0, 14, 4,\n",
    "            2, 1, 0, 5,\n",
    "            2, 2, 1, 6,\n",
    "            4, 14, 3, 7,\n",
    "            5, 0, 3, 8,\n",
    "            6, 1, 4, 9,\n",
    "            6, 2, 5, 10,\n",
    "            8, 3, 7, 11,\n",
    "            9, 4, 7, 12,\n",
    "            10, 5, 8, 13,\n",
    "            10, 6, 9, 15,\n",
    "            12, 7, 11, 11,\n",
    "            13, 8, 11, 12,\n",
    "            15, 9, 12, 13],\n",
    "    dtype=np.int64)"
   ]
  },
  {
   "cell_type": "code",
   "execution_count": 47,
   "metadata": {},
   "outputs": [],
   "source": [
    "p = np.repeat(\n",
    "    a=1.0, repeats=num_non_terminal_states * max_num_actions * 1)"
   ]
  },
  {
   "cell_type": "code",
   "execution_count": 48,
   "metadata": {},
   "outputs": [],
   "source": [
    "r = np.repeat(\n",
    "    a=-1.0, repeats=num_non_terminal_states * max_num_actions * 1)"
   ]
  },
  {
   "cell_type": "code",
   "execution_count": 49,
   "metadata": {},
   "outputs": [],
   "source": [
    "sp_idx = np.reshape(\n",
    "    a=sp_idx,\n",
    "    newshape=(num_non_terminal_states, max_num_actions, 1))\n",
    "p = np.reshape(\n",
    "    a=p,\n",
    "    newshape=(num_non_terminal_states, max_num_actions, 1))\n",
    "r = np.reshape(\n",
    "    a=r,\n",
    "    newshape=(num_non_terminal_states, max_num_actions, 1))"
   ]
  },
  {
   "cell_type": "markdown",
   "metadata": {},
   "source": [
    "# Create value function and policy arrays"
   ]
  },
  {
   "cell_type": "code",
   "execution_count": 50,
   "metadata": {},
   "outputs": [],
   "source": [
    "v = np.zeros(shape=num_states, dtype=np.float64)\n",
    "q = np.zeros(\n",
    "    shape=(num_non_terminal_states, max_num_actions),\n",
    "    dtype=np.float64)"
   ]
  },
  {
   "cell_type": "code",
   "execution_count": 51,
   "metadata": {},
   "outputs": [],
   "source": [
    "policy = np.repeat(\n",
    "    a=1.0 / max_num_actions,\n",
    "    repeats=num_non_terminal_states * max_num_actions)"
   ]
  },
  {
   "cell_type": "code",
   "execution_count": 52,
   "metadata": {},
   "outputs": [],
   "source": [
    "policy = np.reshape(\n",
    "    a=policy,\n",
    "    newshape=(num_non_terminal_states, max_num_actions))"
   ]
  },
  {
   "cell_type": "markdown",
   "metadata": {},
   "source": [
    "# Set hyperparameters"
   ]
  },
  {
   "cell_type": "code",
   "execution_count": 53,
   "metadata": {},
   "outputs": [],
   "source": [
    "gamma = 1.0\n",
    "convergence_threshold = 0.001\n",
    "maximum_num_value_estimations = 20"
   ]
  },
  {
   "cell_type": "markdown",
   "metadata": {},
   "source": [
    "# Create algorithm"
   ]
  },
  {
   "cell_type": "code",
   "execution_count": 54,
   "metadata": {},
   "outputs": [],
   "source": [
    "# This function estimates the value functions\n",
    "def value_estimation(\n",
    "    num_non_terminal_states,\n",
    "    sp_idx,\n",
    "    p,\n",
    "    r,\n",
    "    convergence_threshold,\n",
    "    gamma,\n",
    "    maximum_num_value_estimations,\n",
    "    v,\n",
    "    q):\n",
    "    \"\"\"Estimates state-action value function.\n",
    "\n",
    "    Args:\n",
    "        num_non_terminal_states: int, number of non terminal states.\n",
    "        sp_idx: array[int], state indices of new\n",
    "            state s' of taking action a from state s.\n",
    "        p: array[float],\n",
    "            transition probability to go from state s to s' by taking action a.\n",
    "        r: array[float], reward from new\n",
    "            state s' from state s by taking action a.\n",
    "        convergence_threshold: float, minimum maximum change across all value\n",
    "            function updates.\n",
    "        gamma: float, 0 <= gamma <= 1, amount to discount\n",
    "            future r.\n",
    "        maximum_num_value_estimations: int, max number of iterations.\n",
    "        v: array[float], keeps track of the estimated\n",
    "            value of each state V(s).\n",
    "        q: array[float], keeps track of the estimated\n",
    "            value of each state-action pair Q(s, a).\n",
    "    Returns:\n",
    "        v: array, estimate of state value function V(s).\n",
    "        q: array, estimate of state-action value\n",
    "            function Q(s, a).\n",
    "    \"\"\"\n",
    "    delta = np.finfo(np.float64).max\n",
    "    num_value_estimations = 0\n",
    "\n",
    "    while (delta >= convergence_threshold and\n",
    "           num_value_estimations < maximum_num_value_estimations):\n",
    "        for i in range(0, num_non_terminal_states):\n",
    "            # Cache state-value function for state i\n",
    "            temp_v = v[i]\n",
    "\n",
    "            # Update state-action value function based on successor states,\n",
    "            # transition probabilities, and r\n",
    "            q[i, :] = np.squeeze(\n",
    "                a=np.where(\n",
    "                    sp_idx[i, :, :] == i,\n",
    "                    p[i, :, :] * (r[i, :, :] + gamma * temp_v),\n",
    "                    p[i, :, :] * (r[i, :, :] + gamma * v[sp_idx[i, :, :]])),\n",
    "                axis=1)\n",
    "\n",
    "            # Update state-value function\n",
    "            v[i] = np.max(\n",
    "                a=q[i, :])\n",
    "\n",
    "            # Update delta for convergence criteria to break while loop and\n",
    "            # update policy\n",
    "            delta = np.max(\n",
    "                (delta,\n",
    "                 np.abs(temp_v - v[i])))\n",
    "\n",
    "        num_value_estimations += 1\n",
    "\n",
    "    return v, q"
   ]
  },
  {
   "cell_type": "code",
   "execution_count": 55,
   "metadata": {},
   "outputs": [],
   "source": [
    "# This function greedily selects the policy based on the current value function\n",
    "def greedy_policy_selection(\n",
    "    sp_idx,\n",
    "    p,\n",
    "    r,\n",
    "    policy,\n",
    "    gamma,\n",
    "    v):\n",
    "    \"\"\"Estimates state-action value function.\n",
    "\n",
    "    Args:\n",
    "        sp_idx: array[int], state indices of new\n",
    "            state s' of taking action a from state s.\n",
    "        p: array[float],\n",
    "            transition probability to go from state s to s' by taking action a.\n",
    "        r: array[float], reward from new\n",
    "            state s' from state s by taking action a.\n",
    "        policy: array[float], learned stochastic policy of which action a to\n",
    "            take in state s.\n",
    "        gamma: float, 0 <= gamma <= 1, amount to discount\n",
    "            future r.\n",
    "        v: array[float], keeps track of the estimated\n",
    "            value of each state V(s).\n",
    "    Returns:\n",
    "        array, learned stochastic policy of which action a to take in state s.\n",
    "    \"\"\"\n",
    "    for i in range(0, num_non_terminal_states):\n",
    "        # Update policy greedily from state-value function\n",
    "        policy[i, :] = np.squeeze(\n",
    "            a=p[i, :, :] * (r[i, :, :] + gamma * v[sp_idx[i, :, :]]),\n",
    "            axis=1)\n",
    "\n",
    "        # Save max policy value and find the number of actions that have the\n",
    "        # same max policy value\n",
    "        max_policy_value = np.max(a=policy[i, :])\n",
    "        max_policy_count = np.count_nonzero(\n",
    "            a=policy[i, :] == max_policy_value)\n",
    "\n",
    "        # Apportion policy probability across ties equally for state-action\n",
    "        # pairs that have the same value and zero otherwise\n",
    "        policy[i, :] = np.where(\n",
    "            policy[i, :] == max_policy_value, 1.0 / max_policy_count, 0.0)\n",
    "\n",
    "    return policy"
   ]
  },
  {
   "cell_type": "code",
   "execution_count": 56,
   "metadata": {},
   "outputs": [],
   "source": [
    "def value_iteration(\n",
    "    num_non_terminal_states,\n",
    "    sp_idx,\n",
    "    p,\n",
    "    r,\n",
    "    policy,\n",
    "    convergence_threshold,\n",
    "    gamma,\n",
    "    maximum_num_value_iterations,\n",
    "    v,\n",
    "    q):\n",
    "    \"\"\"Performs value iteration to learn optimal policy.\n",
    "\n",
    "    Args:\n",
    "        num_non_terminal_states: int, number of non terminal states.\n",
    "        sp_idx: array[int], state indices of new\n",
    "            state s' of taking action a from state s.\n",
    "        p: array[float],\n",
    "            transition probability to go from state s to s' by taking action a.\n",
    "        r: array[float], reward from new\n",
    "            state s' from state s by taking action a.\n",
    "        policy: array[float], learned stochastic policy of which action a to\n",
    "            take in state s.\n",
    "        convergence_threshold: float, minimum maximum change across all value\n",
    "            function updates.\n",
    "        gamma: float, 0 <= gamma <= 1, amount to discount\n",
    "            future r.\n",
    "        maximum_num_value_estimations: int, max number of iterations.\n",
    "        v: array[float], keeps track of the estimated\n",
    "            value of each state V(s).\n",
    "        q: array[float], keeps track of the estimated\n",
    "            value of each state-action pair Q(s, a).\n",
    "    Returns:\n",
    "        v: array, estimate of state value function V(s).\n",
    "        q: array, estimate of state-action value\n",
    "            function Q(s, a).\n",
    "        policy: array, learned stochastic policy of which action a to take in\n",
    "            state s.\n",
    "    \"\"\"\n",
    "    # Value estimation\n",
    "    v, q = value_estimation(\n",
    "        num_non_terminal_states,\n",
    "        sp_idx,\n",
    "        p,\n",
    "        r,\n",
    "        convergence_threshold,\n",
    "        gamma,\n",
    "        maximum_num_value_iterations,\n",
    "        v,\n",
    "        q)\n",
    "\n",
    "    # Greedy policy selection\n",
    "    policy = greedy_policy_selection(\n",
    "        sp_idx,\n",
    "        p,\n",
    "        r,\n",
    "        policy,\n",
    "        gamma,\n",
    "        v)\n",
    "\n",
    "    return v, q, policy"
   ]
  },
  {
   "cell_type": "markdown",
   "metadata": {},
   "source": [
    "# Run algorithm"
   ]
  },
  {
   "cell_type": "code",
   "execution_count": 57,
   "metadata": {},
   "outputs": [
    {
     "name": "stdout",
     "output_type": "stream",
     "text": [
      "\n",
      "Initial state value function\n",
      "[0. 0. 0. 0. 0. 0. 0. 0. 0. 0. 0. 0. 0. 0. 0. 0.]\n",
      "\n",
      "Initial state-action value function\n",
      "[[0. 0. 0. 0.]\n",
      " [0. 0. 0. 0.]\n",
      " [0. 0. 0. 0.]\n",
      " [0. 0. 0. 0.]\n",
      " [0. 0. 0. 0.]\n",
      " [0. 0. 0. 0.]\n",
      " [0. 0. 0. 0.]\n",
      " [0. 0. 0. 0.]\n",
      " [0. 0. 0. 0.]\n",
      " [0. 0. 0. 0.]\n",
      " [0. 0. 0. 0.]\n",
      " [0. 0. 0. 0.]\n",
      " [0. 0. 0. 0.]\n",
      " [0. 0. 0. 0.]]\n",
      "\n",
      "Initial policy\n",
      "[[0.25 0.25 0.25 0.25]\n",
      " [0.25 0.25 0.25 0.25]\n",
      " [0.25 0.25 0.25 0.25]\n",
      " [0.25 0.25 0.25 0.25]\n",
      " [0.25 0.25 0.25 0.25]\n",
      " [0.25 0.25 0.25 0.25]\n",
      " [0.25 0.25 0.25 0.25]\n",
      " [0.25 0.25 0.25 0.25]\n",
      " [0.25 0.25 0.25 0.25]\n",
      " [0.25 0.25 0.25 0.25]\n",
      " [0.25 0.25 0.25 0.25]\n",
      " [0.25 0.25 0.25 0.25]\n",
      " [0.25 0.25 0.25 0.25]\n",
      " [0.25 0.25 0.25 0.25]]\n",
      "\n",
      "Final state value function\n",
      "[-1. -2. -3. -1. -2. -3. -2. -2. -3. -2. -1. -3. -2. -1.  0.  0.]\n",
      "\n",
      "Final state-action value function\n",
      "[[-3. -2. -1. -3.]\n",
      " [-4. -3. -2. -4.]\n",
      " [-4. -4. -3. -3.]\n",
      " [-3. -1. -2. -3.]\n",
      " [-4. -2. -2. -4.]\n",
      " [-3. -3. -3. -3.]\n",
      " [-3. -4. -4. -2.]\n",
      " [-4. -2. -3. -4.]\n",
      " [-3. -3. -3. -3.]\n",
      " [-2. -4. -4. -2.]\n",
      " [-2. -3. -3. -1.]\n",
      " [-3. -3. -4. -4.]\n",
      " [-2. -4. -4. -3.]\n",
      " [-1. -3. -3. -2.]]\n",
      "\n",
      "Final policy\n",
      "[[0.   0.   1.   0.  ]\n",
      " [0.   0.   1.   0.  ]\n",
      " [0.   0.   0.5  0.5 ]\n",
      " [0.   1.   0.   0.  ]\n",
      " [0.   0.5  0.5  0.  ]\n",
      " [0.25 0.25 0.25 0.25]\n",
      " [0.   0.   0.   1.  ]\n",
      " [0.   1.   0.   0.  ]\n",
      " [0.25 0.25 0.25 0.25]\n",
      " [0.5  0.   0.   0.5 ]\n",
      " [0.   0.   0.   1.  ]\n",
      " [0.5  0.5  0.   0.  ]\n",
      " [1.   0.   0.   0.  ]\n",
      " [1.   0.   0.   0.  ]]\n"
     ]
    }
   ],
   "source": [
    "print(\"\\nInitial state value function\")\n",
    "print(v)\n",
    "\n",
    "print(\"\\nInitial state-action value function\")\n",
    "print(q)\n",
    "\n",
    "print(\"\\nInitial policy\")\n",
    "print(policy)\n",
    "\n",
    "# Run value iteration\n",
    "v, q, policy = value_iteration(\n",
    "    num_non_terminal_states,\n",
    "    sp_idx,\n",
    "    p,\n",
    "    r,\n",
    "    policy,\n",
    "    convergence_threshold,\n",
    "    gamma,\n",
    "    maximum_num_value_iterations,\n",
    "    v,\n",
    "    q)\n",
    "\n",
    "# Print final results\n",
    "print(\"\\nFinal state value function\")\n",
    "print(v)\n",
    "print(\"\\nFinal state-action value function\")\n",
    "print(q)\n",
    "print(\"\\nFinal policy\")\n",
    "print(policy)"
   ]
  },
  {
   "cell_type": "code",
   "execution_count": null,
   "metadata": {},
   "outputs": [],
   "source": []
  }
 ],
 "metadata": {
  "kernelspec": {
   "display_name": "Python 3",
   "language": "python",
   "name": "python3"
  },
  "language_info": {
   "codemirror_mode": {
    "name": "ipython",
    "version": 3
   },
   "file_extension": ".py",
   "mimetype": "text/x-python",
   "name": "python",
   "nbconvert_exporter": "python",
   "pygments_lexer": "ipython3",
   "version": "3.5.3"
  }
 },
 "nbformat": 4,
 "nbformat_minor": 4
}
