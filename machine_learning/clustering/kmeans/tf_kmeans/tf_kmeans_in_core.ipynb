{
 "cells": [
  {
   "cell_type": "code",
   "execution_count": 1,
   "metadata": {},
   "outputs": [],
   "source": [
    "import matplotlib.pyplot as plt\n",
    "import numpy as np\n",
    "import tensorflow as tf"
   ]
  },
  {
   "cell_type": "code",
   "execution_count": 38,
   "metadata": {},
   "outputs": [],
   "source": [
    "class KMeansClustering(object):\n",
    "    \"\"\"Initializes `KMeansClustering` class instance.\n",
    "\n",
    "    Attributes:\n",
    "        num_points: int, number of input points to cluster.\n",
    "        num_dims: int, number of dimensions of input points.\n",
    "        num_clusters: int, number of clusters to assign points to.\n",
    "        max_iterations: int, maximum number of iterations to attempt\n",
    "            convergence before exiting loop.\n",
    "        points: tensor, rank 2 tensor of shape (num_points, num_dims) that\n",
    "            contains the coordinates of each point.\n",
    "        points_expanded: tensor, rank 3 tensor of shape\n",
    "            (1, num_points, num_dims) that enables broadcast subtraction of\n",
    "            point coordinates with centroids.\n",
    "        centroids: tf.Variable, rank 2 Variable of shape\n",
    "            (num_clusters, num_dims) that contains the coordinates for each\n",
    "            cluster centroid.\n",
    "        assignments: tf.Variable, rank 1 Variable of shape (num_points,) that\n",
    "            contains the cluster index assignment for each point.\n",
    "        loss: tensor, rank 0 tensor of shape () that represents the current\n",
    "            loss of the point assignment and centroid placement.\n",
    "        old_loss: tensor, rank 0 tensor of shape () that represents the old\n",
    "            loss of the point assignment and centroid placement.\n",
    "    \"\"\"\n",
    "    def __init__(self, num_points, num_dims, num_clusters, max_iterations):\n",
    "        \"\"\"Initializes `KMeansClustering` class instance.\n",
    "\n",
    "        Args:\n",
    "            num_points: int, number of input points to cluster.\n",
    "            num_dims: int, number of dimensions of input points.\n",
    "            num_clusters: int, number of clusters to assign points to.\n",
    "            max_iterations: int, maximum number of iterations to attempt\n",
    "                convergence before exiting loop.\n",
    "        \"\"\"\n",
    "        self.num_points = num_points\n",
    "        self.num_dims = num_dims\n",
    "        self.num_clusters = num_clusters\n",
    "        self.max_iterations = max_iterations\n",
    "\n",
    "        # Create random points.\n",
    "        self.points = tf.constant(\n",
    "            value=tf.random.uniform(\n",
    "                shape=(self.num_points, self.num_dims), minval=0, maxval=10\n",
    "            )\n",
    "        )\n",
    "\n",
    "        # Expand points to be able to do broadcast subtraction.\n",
    "        self.points_expanded = tf.expand_dims(input=self.points, axis=0)\n",
    "\n",
    "        # Initialize centroids at random point values.\n",
    "        self.centroids = tf.Variable(\n",
    "            initial_value=tf.slice(\n",
    "                input_=tf.random.shuffle(value=self.points),\n",
    "                begin=[0, 0],\n",
    "                size=[self.num_clusters, -1]\n",
    "            ),\n",
    "            trainable=False\n",
    "        )\n",
    "\n",
    "        # Initialize assignments to first centroid.\n",
    "        self.assignments = tf.Variable(\n",
    "            initial_value=tf.zeros(\n",
    "                shape=self.points.shape[0], dtype=tf.int64\n",
    "            ),\n",
    "            trainable=False\n",
    "        )\n",
    "\n",
    "        # Initialize losses.\n",
    "        self.loss = tf.zeros(shape=[], dtype=tf.float32)\n",
    "        self.old_loss = tf.ones(shape=[], dtype=tf.float32) * tf.float32.max\n",
    "\n",
    "    @tf.function\n",
    "    def assign_assignments(self, new_assignments):\n",
    "        \"\"\"Assigns new point centroid assignments to assignments variable.\n",
    "\n",
    "        Args:\n",
    "            new_assignments: tensor, rank 1 tensor of shape (batch_size,) that\n",
    "                contains the centroid index assignments for each point.\n",
    "        \"\"\"\n",
    "        self.assignments.assign(value=new_assignments)\n",
    "\n",
    "    def find_closest_centroid_assignments(self):\n",
    "        \"\"\"Finds closest centroids for point assignments.\n",
    "        \"\"\"\n",
    "        # Expand centroids to be able to do broadcast subtraction.\n",
    "        self.centroids_expanded = tf.expand_dims(input=self.centroids, axis=1)\n",
    "\n",
    "        # Calculate distances from points and centroids.\n",
    "        distances = tf.math.reduce_sum(\n",
    "            input_tensor=tf.square(\n",
    "                x=self.points_expanded - self.centroids_expanded\n",
    "            ),\n",
    "            axis=2\n",
    "        )\n",
    "\n",
    "        # Assign points to closest centroid.\n",
    "        self.assign_assignments(\n",
    "            new_assignments=tf.math.argmin(input=distances, axis=0)\n",
    "        )\n",
    "\n",
    "        # Calculate loss using minimum euclidean distance.\n",
    "        min_distances = tf.reduce_min(input_tensor=distances, axis=0)\n",
    "\n",
    "        self.loss = tf.reduce_sum(input_tensor=min_distances)\n",
    "        \n",
    "\n",
    "    @tf.function\n",
    "    def assign_centroids(self, new_centroids):\n",
    "        \"\"\"Assigns new centroid coordinates to centroids variable.\n",
    "\n",
    "        Args:\n",
    "            new_centroids: tensor, rank 2 tensor that contains the coordinates\n",
    "                for each n-dimensional centroid.\n",
    "        \"\"\"\n",
    "        self.centroids.assign(value=new_centroids)\n",
    "\n",
    "    def compute_centroids(self):\n",
    "        \"\"\"Computes updated centroid coordinates.\n",
    "        \"\"\"\n",
    "        means = []\n",
    "        # Loop through all clusters.\n",
    "        for cluster_idx in range(self.num_clusters):\n",
    "            # Find indices for points assigned to this cluster.\n",
    "            # shape = (num_points_assigned, 1)\n",
    "            cluster_assignment_indices = tf.where(\n",
    "                tf.equal(\n",
    "                    x=self.assignments, y=cluster_idx\n",
    "                )\n",
    "            )\n",
    "\n",
    "            # Gather assigned points to cluster.\n",
    "            # shape = (1, num_points_assigned, num_dims)\n",
    "            cluster_assigned_points = tf.gather(\n",
    "                params=self.points,\n",
    "                indices=tf.reshape(\n",
    "                    tensor=cluster_assignment_indices,\n",
    "                    shape=[1, -1]\n",
    "                )\n",
    "            )\n",
    "\n",
    "            # Get cluster mean values for each dimension.\n",
    "            # shape = (1, num_dims)\n",
    "            cluster_mean = tf.math.reduce_mean(\n",
    "                cluster_assigned_points,\n",
    "                axis=1\n",
    "            )\n",
    "\n",
    "            # Append mean to list for concatenation after the loop.\n",
    "            means.append(cluster_mean)\n",
    "\n",
    "        self.assign_centroids(new_centroids=tf.concat(values=means, axis=0))\n",
    "\n",
    "    def kmeans_clustering(self):\n",
    "        \"\"\"Performs kmeans clustering until convergence.\n",
    "        \"\"\"\n",
    "        # Perform iterations until convergence.\n",
    "        for iteration in range(self.max_iterations):\n",
    "            # Find closest centroid assignments for points.\n",
    "            self.find_closest_centroid_assignments()\n",
    "\n",
    "            # Break early if system has converged.\n",
    "            print(\"Iteration {} has {} loss.\".format(iteration, self.loss))\n",
    "            if self.loss >= self.old_loss:\n",
    "                return\n",
    "            self.compute_centroids()\n",
    "\n",
    "            # Update loss.\n",
    "            self.old_loss = self.loss\n",
    "\n",
    "        # Perform final centroid assignment for points.\n",
    "        self.find_closest_centroid_assignments()\n",
    "\n",
    "            "
   ]
  },
  {
   "cell_type": "code",
   "execution_count": 39,
   "metadata": {},
   "outputs": [],
   "source": [
    "kmeans = KMeansClustering(\n",
    "    num_points=200, num_dims=2, num_clusters=3, max_iterations=100\n",
    ")"
   ]
  },
  {
   "cell_type": "code",
   "execution_count": 40,
   "metadata": {},
   "outputs": [
    {
     "name": "stdout",
     "output_type": "stream",
     "text": [
      "Iteration 0 has 1783.899658203125 loss.\n",
      "Iteration 1 has 1342.667724609375 loss.\n",
      "Iteration 2 has 1308.8055419921875 loss.\n",
      "Iteration 3 has 1306.672607421875 loss.\n",
      "Iteration 4 has 1305.2130126953125 loss.\n",
      "Iteration 5 has 1305.2130126953125 loss.\n"
     ]
    }
   ],
   "source": [
    "kmeans.kmeans_clustering()"
   ]
  },
  {
   "cell_type": "code",
   "execution_count": 41,
   "metadata": {},
   "outputs": [
    {
     "data": {
      "text/plain": [
       "<tf.Variable 'Variable:0' shape=(3, 2) dtype=float32, numpy=\n",
       "array([[6.283286 , 2.2797782],\n",
       "       [7.019978 , 7.7304344],\n",
       "       [1.398603 , 5.52407  ]], dtype=float32)>"
      ]
     },
     "execution_count": 41,
     "metadata": {},
     "output_type": "execute_result"
    }
   ],
   "source": [
    "kmeans.centroids"
   ]
  },
  {
   "cell_type": "code",
   "execution_count": 42,
   "metadata": {},
   "outputs": [
    {
     "data": {
      "text/plain": [
       "<tf.Variable 'Variable:0' shape=(200,) dtype=int64, numpy=\n",
       "array([2, 1, 1, 0, 0, 2, 0, 2, 1, 0, 0, 0, 0, 2, 0, 2, 2, 0, 2, 1, 1, 1,\n",
       "       2, 2, 0, 0, 2, 0, 0, 1, 1, 2, 1, 2, 0, 0, 1, 1, 0, 2, 0, 0, 0, 2,\n",
       "       0, 1, 0, 0, 2, 0, 2, 0, 1, 0, 1, 1, 1, 1, 0, 1, 2, 0, 0, 1, 0, 0,\n",
       "       2, 1, 0, 0, 0, 2, 2, 1, 2, 2, 0, 0, 0, 2, 1, 0, 0, 1, 2, 0, 2, 0,\n",
       "       0, 0, 2, 1, 1, 0, 1, 0, 1, 1, 2, 1, 2, 2, 2, 2, 0, 0, 1, 2, 2, 1,\n",
       "       0, 2, 0, 0, 1, 2, 2, 2, 0, 2, 2, 0, 0, 0, 1, 1, 2, 2, 2, 0, 0, 2,\n",
       "       2, 1, 0, 0, 1, 1, 1, 0, 2, 0, 2, 0, 2, 1, 2, 0, 0, 0, 1, 2, 1, 0,\n",
       "       1, 2, 1, 0, 1, 2, 0, 2, 1, 2, 0, 1, 0, 0, 0, 2, 0, 1, 2, 1, 0, 0,\n",
       "       0, 1, 2, 1, 2, 2, 1, 2, 2, 0, 0, 1, 0, 2, 1, 0, 1, 0, 2, 2, 0, 0,\n",
       "       1, 2])>"
      ]
     },
     "execution_count": 42,
     "metadata": {},
     "output_type": "execute_result"
    }
   ],
   "source": [
    "kmeans.assignments"
   ]
  },
  {
   "cell_type": "code",
   "execution_count": 43,
   "metadata": {},
   "outputs": [
    {
     "data": {
      "image/png": "[encoded data removed]",
      "text/plain": [
       "<Figure size 432x288 with 1 Axes>"
      ]
     },
     "metadata": {
      "needs_background": "light"
     },
     "output_type": "display_data"
    }
   ],
   "source": [
    "plt.scatter(\n",
    "    x=kmeans.points[:, 0],\n",
    "    y=kmeans.points[:, 1],\n",
    "    c=kmeans.assignments.numpy(),\n",
    "    s=50,\n",
    "    alpha=0.5\n",
    ")\n",
    "plt.plot(\n",
    "    kmeans.centroids[:, 0].numpy(),\n",
    "    kmeans.centroids[:, 1].numpy(),\n",
    "    \"kx\",\n",
    "    markersize=15\n",
    ")\n",
    "plt.show()"
   ]
  },
  {
   "cell_type": "code",
   "execution_count": null,
   "metadata": {},
   "outputs": [],
   "source": []
  }
 ],
 "metadata": {
  "environment": {
   "name": "tf2-2-3-gpu.2-3.m56",
   "type": "gcloud",
   "uri": "gcr.io/deeplearning-platform-release/tf2-2-3-gpu.2-3:m56"
  },
  "kernelspec": {
   "display_name": "Python 3",
   "language": "python",
   "name": "python3"
  },
  "language_info": {
   "codemirror_mode": {
    "name": "ipython",
    "version": 3
   },
   "file_extension": ".py",
   "mimetype": "text/x-python",
   "name": "python",
   "nbconvert_exporter": "python",
   "pygments_lexer": "ipython3",
   "version": "3.7.8"
  }
 },
 "nbformat": 4,
 "nbformat_minor": 4
}
